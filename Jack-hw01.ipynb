{
  "nbformat": 4,
  "nbformat_minor": 0,
  "metadata": {
    "colab": {
      "provenance": [],
      "include_colab_link": true
    },
    "kernelspec": {
      "name": "python3",
      "display_name": "Python 3"
    },
    "language_info": {
      "name": "python"
    }
  },
  "cells": [
    {
      "cell_type": "markdown",
      "metadata": {
        "id": "view-in-github",
        "colab_type": "text"
      },
      "source": [
        "<a href=\"https://colab.research.google.com/github/jmcnerney1/Jack-Mcnerney-Python/blob/main/Jack-hw01.ipynb\" target=\"_parent\"><img src=\"https://colab.research.google.com/assets/colab-badge.svg\" alt=\"Open In Colab\"/></a>"
      ]
    },
    {
      "cell_type": "markdown",
      "source": [
        "# HW 01"
      ],
      "metadata": {
        "id": "JaguTAItuC48"
      }
    },
    {
      "cell_type": "markdown",
      "source": [
        "### Q1. Write a program to input your age and print whether you are more than or less than a billion seconds old."
      ],
      "metadata": {
        "id": "8N08oInsuN8g"
      }
    },
    {
      "cell_type": "code",
      "execution_count": null,
      "metadata": {
        "id": "KlPvWPxRuCVz",
        "colab": {
          "base_uri": "https://localhost:8080/"
        },
        "outputId": "efe18f14-24a5-4cf5-b5d6-d0dc9965542b"
      },
      "outputs": [
        {
          "output_type": "stream",
          "name": "stdout",
          "text": [
            "Enter your age in years: 21\n",
            "You are less than a billion seconds old.\n"
          ]
        }
      ],
      "source": [
        "## Enter answer here.\n",
        "age_years = int(input(\"Enter your age in years: \"))\n",
        "\n",
        "age_seconds = age_years * 364 * 24 * 60 * 60\n",
        "\n",
        "if age_seconds > 1000000000:\n",
        "    print(\"You are more than a billion seconds old.\")\n",
        "else:\n",
        "    print(\"You are less than a billion seconds old.\")\n"
      ]
    },
    {
      "cell_type": "markdown",
      "source": [
        "### Q2. Create a list with 10 names. Print each name with a Good morning greeting with the name using a conditional loop.\n",
        "\n",
        "For example\n",
        "\n",
        "`name = ['Ashley', 'Brianna', 'Chetan', 'David', 'Eoin', 'Francois', 'Gemma', 'Hameed', 'Ishaan', 'Joanna']`\n",
        "\n",
        "Outputs will be 'Good morning, Ashley', 'Good morning, Brianna', and so on."
      ],
      "metadata": {
        "id": "X3IPYLTgvnDh"
      }
    },
    {
      "cell_type": "code",
      "source": [
        "## Enter answer here.\n",
        "\n",
        "name = ['Bill', 'Bob', 'Billy', 'Bob', 'Bobby', 'Phil', 'Philly', 'Frank', 'Franky', 'Todd']\n",
        "\n",
        "for i in range(len(name)):\n",
        "    print(\"Good morning,\", name[i])"
      ],
      "metadata": {
        "id": "MFG2cvatvmr2",
        "colab": {
          "base_uri": "https://localhost:8080/"
        },
        "outputId": "f4e4df31-a710-4fea-d412-6a951242fa6f"
      },
      "execution_count": null,
      "outputs": [
        {
          "output_type": "stream",
          "name": "stdout",
          "text": [
            "Good morning, Bill\n",
            "Good morning, Bob\n",
            "Good morning, Billy\n",
            "Good morning, Bob\n",
            "Good morning, Bobby\n",
            "Good morning, Phil\n",
            "Good morning, Philly\n",
            "Good morning, Frank\n",
            "Good morning, Franky\n",
            "Good morning, Todd\n"
          ]
        }
      ]
    },
    {
      "cell_type": "markdown",
      "source": [
        "### Q3. Create a list of 15 numbers. Print only those numbers that are divisible by 2."
      ],
      "metadata": {
        "id": "niM878Jrx1bf"
      }
    },
    {
      "cell_type": "code",
      "source": [
        "## Enter answer here.\n",
        "\n",
        "numbers = [1, 2, 3, 4, 5, 6, 7, 8, 9, 10, 11, 12, 13, 14, 15]\n",
        "\n",
        "for number in numbers:\n",
        "  if number % 2 == 0:\n",
        "    print(number)\n"
      ],
      "metadata": {
        "id": "m7XjkMn8uUY2",
        "colab": {
          "base_uri": "https://localhost:8080/"
        },
        "outputId": "50ca2910-d340-49d0-bd50-e7d78de5f4c2"
      },
      "execution_count": null,
      "outputs": [
        {
          "output_type": "stream",
          "name": "stdout",
          "text": [
            "2\n",
            "4\n",
            "6\n",
            "8\n",
            "10\n",
            "12\n",
            "14\n"
          ]
        }
      ]
    },
    {
      "cell_type": "markdown",
      "source": [
        "### Q4. Print the squared numbers of a list containing at least 10 numbers with a mix of float, integer, and negative numbers. Use the longer method as well as list comprehension.\n",
        "\n",
        "You can either generate your own list of 10 numbers or find use a random number generator."
      ],
      "metadata": {
        "id": "u1kyA9ksy_JI"
      }
    },
    {
      "cell_type": "code",
      "source": [
        "## Enter answer here.\n",
        "\n",
        "nums = [0,-1.25,15.86,-25]\n",
        "method1_squares = []\n",
        "\n",
        "for i in nums:\n",
        "    method1_squares.append(i**2)\n",
        "\n",
        "print(method1_squares)\n",
        "\n",
        "## Now method 2\n"
      ],
      "metadata": {
        "colab": {
          "base_uri": "https://localhost:8080/"
        },
        "id": "UFHMdDgEuUbD",
        "outputId": "a24ce2f1-f8e5-4520-dde9-277fb52c9e2c"
      },
      "execution_count": null,
      "outputs": [
        {
          "output_type": "stream",
          "name": "stdout",
          "text": [
            "[0, 1.5625, 251.53959999999998, 625]\n"
          ]
        }
      ]
    },
    {
      "cell_type": "markdown",
      "source": [
        "### Q5. Write a program to print a year if it is a leap year."
      ],
      "metadata": {
        "id": "0ZBlFovqA7G9"
      }
    },
    {
      "cell_type": "markdown",
      "source": [],
      "metadata": {
        "id": "OK1ctUfqA6mP"
      }
    },
    {
      "cell_type": "code",
      "source": [
        "year = int(input())\n",
        "\n",
        "if year%4 == 0:\n",
        "    print(year, \"is a leap year\")\n",
        "else:\n",
        "    print(year, \"is not a leap year\")"
      ],
      "metadata": {
        "id": "QwfOIh36uUeM",
        "colab": {
          "base_uri": "https://localhost:8080/"
        },
        "outputId": "db63b1cf-8f27-43b8-f9e2-36d89f5608df"
      },
      "execution_count": null,
      "outputs": [
        {
          "output_type": "stream",
          "name": "stdout",
          "text": [
            "1900\n",
            "1900 is a leap year\n"
          ]
        }
      ]
    },
    {
      "cell_type": "markdown",
      "source": [
        "### Q6. Use list comprensions to print all names in a list in upper case."
      ],
      "metadata": {
        "id": "_FRSvLlgArOJ"
      }
    },
    {
      "cell_type": "code",
      "source": [
        "names = ['Bill', 'Bob', 'Billy', 'Bob', 'Bobby', 'Phil', 'Philly', 'Frank', 'Franky', 'Todd']\n",
        "upper_case_names = [name.upper() for name in names]\n",
        "upper_case_names\n"
      ],
      "metadata": {
        "id": "CwPIZcFQuUhD",
        "colab": {
          "base_uri": "https://localhost:8080/"
        },
        "outputId": "ed110fcd-9c2a-4975-de74-583f848861cb"
      },
      "execution_count": null,
      "outputs": [
        {
          "output_type": "execute_result",
          "data": {
            "text/plain": [
              "['BILL',\n",
              " 'BOB',\n",
              " 'BILLY',\n",
              " 'BOB',\n",
              " 'BOBBY',\n",
              " 'PHIL',\n",
              " 'PHILLY',\n",
              " 'FRANK',\n",
              " 'FRANKY',\n",
              " 'TODD']"
            ]
          },
          "metadata": {},
          "execution_count": 14
        }
      ]
    },
    {
      "cell_type": "markdown",
      "source": [
        "### Q7. Question on NUMPY arrays:\n",
        "\n",
        "a. Create a numpy array called `original` with 100 random numbers. What is the largest number, smallest number, max, min, median, and standard deviation of your array? Print them.\n",
        "\n",
        "HINT: use `np.random.uniform()`. Check online for the correct syntax. `np.random.rand(100)` will give you 100 random numbers of uniform distribution with mean 0 and standard deviation of 1, while we want a mix of larger numbers/integers.\n",
        "\n",
        "b. Now create an array called `orig_sqrt` which contains the square roots of the numbers in the original array.\n",
        "\n",
        "### Q8.  Converting 1D arrays into 2D arrays.\n",
        "\n",
        "a. Convert your original array of 100 random numbers into a 2-dimensional array called `mat_array` with 20 rows and 5 columns. Print this array.\n",
        "\n",
        "b. What is the mean of every column in `mat_array`?\n",
        "\n",
        "c. What is the sum of every row? Create a list of 20 elements that contains the sum of every row in `mat_array`.\n",
        "\n",
        "d. Create the transpose of `mat_array` and call it `transpose_array`. What are the dimensions of this array now? Again, find the mean of each column and the sum of each row.\n",
        "\n",
        "### Q9. Array slicing:\n",
        "\n",
        "a. create a new array which contains the 3rd-10th rows and all columns of `mat_array`. Print.\n",
        "\n",
        "b. Print a new array which contains the the last 5 rows and the last 2 columns of `mat_array`. What is the dimension of this array?\n",
        "\n",
        "c. Print a new array which contains the first 3 rows and last 10 columns of `transpose_array`."
      ],
      "metadata": {
        "id": "ulp3oxOZHt5r"
      }
    },
    {
      "cell_type": "code",
      "source": [
        "# Write your answer here. Feel free to break your answer into different blocks of code rather than using just this one cell. Label your answer neatly.\n",
        "import numpy as np\n",
        "\n",
        "original = np.random.uniform(low=-100, high=100, size=100)\n",
        "\n",
        "print(\"Largest number:\", np.max(original))\n",
        "print(\"Smallest number:\", np.min(original))\n",
        "print(\"Max:\", np.max(original))\n",
        "print(\"Min:\", np.min(original))\n",
        "print(\"Median:\", np.median(original))\n",
        "print(\"Standard Deviation:\", np.std(original))\n",
        "\n",
        "orig_sqrt = np.sqrt(original)\n",
        "\n"
      ],
      "metadata": {
        "id": "M6EBbfr7Iaas",
        "colab": {
          "base_uri": "https://localhost:8080/"
        },
        "outputId": "50c5c305-07c4-4f0b-db64-37041067557a"
      },
      "execution_count": null,
      "outputs": [
        {
          "output_type": "stream",
          "name": "stdout",
          "text": [
            "Largest number: 99.66111861722581\n",
            "Smallest number: -99.55498018562734\n",
            "Max: 99.66111861722581\n",
            "Min: -99.55498018562734\n",
            "Median: -15.31815315003277\n",
            "Standard Deviation: 56.165447806867306\n"
          ]
        },
        {
          "output_type": "stream",
          "name": "stderr",
          "text": [
            "<ipython-input-16-16bb4bd6d9cc>:13: RuntimeWarning: invalid value encountered in sqrt\n",
            "  orig_sqrt = np.sqrt(original)\n"
          ]
        }
      ]
    },
    {
      "cell_type": "code",
      "source": [
        "import numpy as np\n",
        "\n",
        "original = np.random.uniform(low=-100, high=100, size=100)\n",
        "mat_array = original.reshape(20, 5)\n",
        "print(mat_array)\n",
        "\n",
        "column_means = np.mean(mat_array, axis=0)\n",
        "print(\"Mean of every column:\", column_means)\n",
        "\n",
        "row_sums = np.sum(mat_array, axis=1)\n",
        "print(\"Sum of every row:\", row_sums)\n",
        "row_sums_list = row_sums.tolist()\n",
        "print(\"List of row sums:\", row_sums_list)\n",
        "\n",
        "\n",
        "transpose_array = mat_array.T\n",
        "print(\"Dimensions of transpose_array:\", transpose_array.shape)\n",
        "\n",
        "transpose_col_means = np.mean(transpose_array, axis=0)\n",
        "print(\"Mean of every column in transpose_array:\", transpose_col_means)\n",
        "\n",
        "transpose_row_sums = np.sum(transpose_array, axis=1)\n",
        "print(\"Sum of every row in transpose_array:\", transpose_row_sums)\n"
      ],
      "metadata": {
        "id": "lJWRxuplJ1R-",
        "colab": {
          "base_uri": "https://localhost:8080/"
        },
        "outputId": "0919b48d-ab82-4c95-f196-ad04ed2bade2"
      },
      "execution_count": null,
      "outputs": [
        {
          "output_type": "stream",
          "name": "stdout",
          "text": [
            "[[-12.86899387 -64.32437032  71.17370409  95.16635787 -13.74121225]\n",
            " [-21.76542128 -75.23892904  54.55086356  91.33979328 -10.09060509]\n",
            " [-18.41978241  63.55786185  35.57058487 -42.9182457  -60.58248413]\n",
            " [ 30.09850873  21.90258678 -47.58126016 -49.25646522  11.63941756]\n",
            " [-96.92265706 -38.94193125  41.52986753 -74.82076008 -77.06421602]\n",
            " [-46.82099244   0.30056164  34.23235194  98.87132057 -72.57289033]\n",
            " [ 68.38875231  24.22765132   0.73654218 -33.43390406 -43.48396008]\n",
            " [-56.4925468  -61.97780798 -56.63709661 -14.66217795 -59.81325535]\n",
            " [-21.84324076 -95.07308311  84.51703333  13.90031584  70.51751939]\n",
            " [ 41.24116272  40.72546163 -78.11182534 -60.10347061   4.80490819]\n",
            " [-53.92458079   4.89693187 -16.5037717   16.32255299  46.11077255]\n",
            " [-61.56120138  65.90770851 -72.32433141 -97.01929998  46.16488064]\n",
            " [-81.28228953  16.19490139  -2.86801749 -30.88166539  70.46893623]\n",
            " [  6.2185123  -72.49662366  27.98941269  55.61474466 -88.57971977]\n",
            " [  9.0611061   24.13883705  40.13175468 -75.47780333   5.25009528]\n",
            " [ 75.60450586  71.70949464  -7.45917905  46.40033875 -27.03304535]\n",
            " [ 47.23586755  93.97120604 -40.00315581  28.41694432  82.76499028]\n",
            " [ 60.64574964  23.70920406 -27.15725686 -93.01191147 -37.95589399]\n",
            " [-22.11710227 -78.12686881 -67.0184845  -20.10670339  52.97050809]\n",
            " [-70.7301095   19.12678517 -31.97776771 -34.54529792 -32.84421299]]\n",
            "Mean of every column: [-11.31273764  -0.79052111  -2.86050159  -9.01026684  -6.65347336]\n",
            "Sum of every row: [  75.40548552   38.79570143  -22.79206552  -33.19721229 -246.21969687\n",
            "   14.01035138   16.43508167 -249.58288468   52.01854469  -51.44376341\n",
            "   -3.09809508 -118.83224362  -28.36813478  -71.25367378    3.10398978\n",
            "  159.22211485  212.38585238  -73.77010861 -134.39865088 -150.97060294]\n",
            "List of row sums: [75.40548552276518, 38.795701430780184, -22.792065516655242, -33.19721229477176, -246.21969686759635, 14.01035137988599, 16.435081674363218, -249.58288468240735, 52.018544691060825, -51.44376341113782, -3.0980950809000376, -118.83224361995914, -28.36813478353291, -71.25367377699189, 3.1039897763509003, 159.22211484861293, 212.38585237656488, -73.77010861208572, -134.3986508786012, -150.9706029427211]\n",
            "Dimensions of transpose_array: (5, 20)\n",
            "Mean of every column in transpose_array: [ 15.0810971    7.75914029  -4.5584131   -6.63944246 -49.24393937\n",
            "   2.80207028   3.28701633 -49.91657694  10.40370894 -10.28875268\n",
            "  -0.61961902 -23.76644872  -5.67362696 -14.25073476   0.62079796\n",
            "  31.84442297  42.47717048 -14.75402172 -26.87973018 -30.19412059]\n",
            "Sum of every row in transpose_array: [-226.25475287  -15.81042219  -57.21003176 -180.20533682 -133.06946713]\n"
          ]
        }
      ]
    },
    {
      "cell_type": "code",
      "source": [
        "new_array = mat_array[2:10, :]\n",
        "print(new_array)\n",
        "\n",
        "new_array_2 = mat_array[-5:, -2:]\n",
        "print(new_array_2)\n",
        "print(\"Dimension of new_array_2:\", new_array_2.shape)\n",
        "\n",
        "new_array_3 = transpose_array[:3, -10:]\n",
        "new_array_3\n"
      ],
      "metadata": {
        "id": "FDYDgwc1Lyy1",
        "colab": {
          "base_uri": "https://localhost:8080/"
        },
        "outputId": "1d6591fd-e9b9-488e-dfbe-f0de5cf95533"
      },
      "execution_count": null,
      "outputs": [
        {
          "output_type": "stream",
          "name": "stdout",
          "text": [
            "[[-18.41978241  63.55786185  35.57058487 -42.9182457  -60.58248413]\n",
            " [ 30.09850873  21.90258678 -47.58126016 -49.25646522  11.63941756]\n",
            " [-96.92265706 -38.94193125  41.52986753 -74.82076008 -77.06421602]\n",
            " [-46.82099244   0.30056164  34.23235194  98.87132057 -72.57289033]\n",
            " [ 68.38875231  24.22765132   0.73654218 -33.43390406 -43.48396008]\n",
            " [-56.4925468  -61.97780798 -56.63709661 -14.66217795 -59.81325535]\n",
            " [-21.84324076 -95.07308311  84.51703333  13.90031584  70.51751939]\n",
            " [ 41.24116272  40.72546163 -78.11182534 -60.10347061   4.80490819]]\n",
            "[[ 46.40033875 -27.03304535]\n",
            " [ 28.41694432  82.76499028]\n",
            " [-93.01191147 -37.95589399]\n",
            " [-20.10670339  52.97050809]\n",
            " [-34.54529792 -32.84421299]]\n",
            "Dimension of new_array_2: (5, 2)\n"
          ]
        },
        {
          "output_type": "execute_result",
          "data": {
            "text/plain": [
              "array([[-53.92458079, -61.56120138, -81.28228953,   6.2185123 ,\n",
              "          9.0611061 ,  75.60450586,  47.23586755,  60.64574964,\n",
              "        -22.11710227, -70.7301095 ],\n",
              "       [  4.89693187,  65.90770851,  16.19490139, -72.49662366,\n",
              "         24.13883705,  71.70949464,  93.97120604,  23.70920406,\n",
              "        -78.12686881,  19.12678517],\n",
              "       [-16.5037717 , -72.32433141,  -2.86801749,  27.98941269,\n",
              "         40.13175468,  -7.45917905, -40.00315581, -27.15725686,\n",
              "        -67.0184845 , -31.97776771]])"
            ]
          },
          "metadata": {},
          "execution_count": 18
        }
      ]
    },
    {
      "cell_type": "code",
      "source": [],
      "metadata": {
        "id": "vyV9N3jpLyqP"
      },
      "execution_count": null,
      "outputs": []
    },
    {
      "cell_type": "code",
      "source": [],
      "metadata": {
        "id": "at-4INjLLyei"
      },
      "execution_count": null,
      "outputs": []
    },
    {
      "cell_type": "markdown",
      "source": [
        "### Q10. Assume you are inviting 15 friends to your party. You guest list has the following dietary preference.\n",
        "\n",
        "`diet = ['vegetarian', 'pescetarian', 'vegetarian', 'omnivore', 'pescetarian', 'keto', 'keto', 'vegan', 'omnivore', 'omnivore', 'vegan', 'omnivore', 'keto, 'vegetarian', 'vegan']`\n",
        "\n",
        "Their ages are as follows:\n",
        "\n",
        "`age = [21, 20, 19, 25, 27, 18, 23, 25, 19, 22, 20, 20, 23, 21, 24]`\n",
        "\n",
        "Create a list called `menu` which will contain 'veg. fried rice with whiskey' for vegans and vegetarians aged 21 and above,  'veg. fried rice with mocktail' for vegans and vegetarians aged below 21. Follow the same logic and assign fish and white wine to pescetarians of legal age (and fish with mocktail to those below 21). Keto and omnivore guests above 21 will have 'steak and red wine'. Complete the series with the appropriate drink for underage guests."
      ],
      "metadata": {
        "id": "cIhCARNRLzKy"
      }
    },
    {
      "cell_type": "code",
      "source": [
        "# Write your answer here.\n",
        "import numpy as np\n",
        "\n",
        "diet = ['vegetarian', 'pescetarian', 'vegetarian', 'omnivore', 'pescetarian', 'keto', 'keto', 'vegan', 'omnivore', 'omnivore', 'vegan', 'omnivore', 'keto', 'vegetarian', 'vegan']\n",
        "age = [21, 20, 19, 25, 27, 18, 23, 25, 19, 22, 20, 20, 23, 21, 24]\n",
        "\n",
        "menu = []\n",
        "for i in range(len(diet)):\n",
        "    if diet[i] in ('vegetarian', 'vegan'):\n",
        "        if age[i] >= 21:\n",
        "            menu.append('veg. fried rice with whiskey')\n",
        "        else:\n",
        "            menu.append('veg. fried rice with mocktail')\n",
        "    elif diet[i] == 'pescetarian':\n",
        "        if age[i] >= 21:\n",
        "            menu.append('fish and white wine')\n",
        "        else:\n",
        "            menu.append('fish with mocktail')\n",
        "    elif diet[i] in ('keto', 'omnivore'):\n",
        "        if age[i] >= 21:\n",
        "            menu.append('steak and red wine')\n",
        "        else:\n",
        "            menu.append('steak and red wine') # Assuming underage keto/omnivores also get steak\n",
        "\n",
        "menu\n",
        "\n"
      ],
      "metadata": {
        "id": "P7Xuiz6JOR5_",
        "colab": {
          "base_uri": "https://localhost:8080/"
        },
        "outputId": "6d2916b5-24a4-4671-abf6-1eff646bb9f8"
      },
      "execution_count": null,
      "outputs": [
        {
          "output_type": "execute_result",
          "data": {
            "text/plain": [
              "['veg. fried rice with whiskey',\n",
              " 'fish with mocktail',\n",
              " 'veg. fried rice with mocktail',\n",
              " 'steak and red wine',\n",
              " 'fish and white wine',\n",
              " 'steak and red wine',\n",
              " 'steak and red wine',\n",
              " 'veg. fried rice with whiskey',\n",
              " 'steak and red wine',\n",
              " 'steak and red wine',\n",
              " 'veg. fried rice with mocktail',\n",
              " 'steak and red wine',\n",
              " 'steak and red wine',\n",
              " 'veg. fried rice with whiskey',\n",
              " 'veg. fried rice with whiskey']"
            ]
          },
          "metadata": {},
          "execution_count": 20
        }
      ]
    }
  ]
}