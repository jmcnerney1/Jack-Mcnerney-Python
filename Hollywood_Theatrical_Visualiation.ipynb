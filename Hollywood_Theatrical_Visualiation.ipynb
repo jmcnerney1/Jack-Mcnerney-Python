{
  "metadata": {
    "kernelspec": {
      "language": "python",
      "display_name": "Python 3",
      "name": "python3"
    },
    "language_info": {
      "pygments_lexer": "ipython3",
      "nbconvert_exporter": "python",
      "version": "3.6.4",
      "file_extension": ".py",
      "codemirror_mode": {
        "name": "ipython",
        "version": 3
      },
      "name": "python",
      "mimetype": "text/x-python"
    },
    "colab": {
      "name": "Hollywood Theatrical Visualiation",
      "provenance": [],
      "include_colab_link": true
    }
  },
  "nbformat_minor": 0,
  "nbformat": 4,
  "cells": [
    {
      "cell_type": "markdown",
      "metadata": {
        "id": "view-in-github",
        "colab_type": "text"
      },
      "source": [
        "<a href=\"https://colab.research.google.com/github/jmcnerney1/Jack-Mcnerney-Python/blob/main/Hollywood_Theatrical_Visualiation.ipynb\" target=\"_parent\"><img src=\"https://colab.research.google.com/assets/colab-badge.svg\" alt=\"Open In Colab\"/></a>"
      ]
    },
    {
      "source": [
        "# IMPORTANT: RUN THIS CELL IN ORDER TO IMPORT YOUR KAGGLE DATA SOURCES,\n",
        "# THEN FEEL FREE TO DELETE THIS CELL.\n",
        "# NOTE: THIS NOTEBOOK ENVIRONMENT DIFFERS FROM KAGGLE'S PYTHON\n",
        "# ENVIRONMENT SO THERE MAY BE MISSING LIBRARIES USED BY YOUR\n",
        "# NOTEBOOK.\n",
        "import kagglehub\n",
        "johnharshith_hollywood_theatrical_market_synopsis_1995_to_2021_path = kagglehub.dataset_download('johnharshith/hollywood-theatrical-market-synopsis-1995-to-2021')\n",
        "\n",
        "print('Data source import complete.')\n"
      ],
      "metadata": {
        "id": "UNYKjjK0f3Ek"
      },
      "cell_type": "code",
      "outputs": [],
      "execution_count": null
    },
    {
      "cell_type": "code",
      "source": [
        "import numpy as np\n",
        "import pandas as pd\n",
        "import seaborn as sns\n",
        "import matplotlib.pyplot as plt"
      ],
      "metadata": {
        "execution": {
          "iopub.status.busy": "2022-03-06T15:02:24.663905Z",
          "iopub.execute_input": "2022-03-06T15:02:24.664227Z",
          "iopub.status.idle": "2022-03-06T15:02:24.66895Z",
          "shell.execute_reply.started": "2022-03-06T15:02:24.664197Z",
          "shell.execute_reply": "2022-03-06T15:02:24.667998Z"
        },
        "trusted": true,
        "id": "K7r1_Z2Xf3El"
      },
      "execution_count": null,
      "outputs": []
    },
    {
      "cell_type": "code",
      "source": [
        "AnnualTicketSales = pd.read_csv('../input/hollywood-theatrical-market-synopsis-1995-to-2021/AnnualTicketSales.csv')\n",
        "HighestGrossers = pd.read_csv('../input/hollywood-theatrical-market-synopsis-1995-to-2021/HighestGrossers.csv')\n",
        "PopularCreativeTypes = pd.read_csv('../input/hollywood-theatrical-market-synopsis-1995-to-2021/PopularCreativeTypes.csv')\n",
        "TopDistributors = pd.read_csv('../input/hollywood-theatrical-market-synopsis-1995-to-2021/TopDistributors.csv')\n",
        "TopGenres = pd.read_csv('../input/hollywood-theatrical-market-synopsis-1995-to-2021/TopGenres.csv')\n",
        "TopGrossingRates = pd.read_csv('../input/hollywood-theatrical-market-synopsis-1995-to-2021/TopGrossingRatings.csv')\n",
        "TopGrossingSources = pd.read_csv('../input/hollywood-theatrical-market-synopsis-1995-to-2021/TopGrossingSources.csv')\n",
        "TopProductionMethods = pd.read_csv('../input/hollywood-theatrical-market-synopsis-1995-to-2021/TopProductionMethods.csv')\n",
        "WideReleasesCount = pd.read_csv('../input/hollywood-theatrical-market-synopsis-1995-to-2021/WideReleasesCount.csv')"
      ],
      "metadata": {
        "execution": {
          "iopub.status.busy": "2022-03-06T15:02:24.670411Z",
          "iopub.execute_input": "2022-03-06T15:02:24.670841Z",
          "iopub.status.idle": "2022-03-06T15:02:24.713644Z",
          "shell.execute_reply.started": "2022-03-06T15:02:24.67081Z",
          "shell.execute_reply": "2022-03-06T15:02:24.712672Z"
        },
        "trusted": true,
        "id": "y-SYgZT9f3El"
      },
      "execution_count": null,
      "outputs": []
    },
    {
      "cell_type": "markdown",
      "source": [
        "# **Annual Ticket Sales**"
      ],
      "metadata": {
        "id": "vinzT3pVf3Em"
      }
    },
    {
      "cell_type": "code",
      "source": [
        "AnnualTicketSales.head(10)"
      ],
      "metadata": {
        "execution": {
          "iopub.status.busy": "2022-03-06T15:02:24.71538Z",
          "iopub.execute_input": "2022-03-06T15:02:24.7156Z",
          "iopub.status.idle": "2022-03-06T15:02:24.727806Z",
          "shell.execute_reply.started": "2022-03-06T15:02:24.715575Z",
          "shell.execute_reply": "2022-03-06T15:02:24.727034Z"
        },
        "trusted": true,
        "id": "VMp6p0ctf3Em"
      },
      "execution_count": null,
      "outputs": []
    },
    {
      "cell_type": "code",
      "source": [
        "AnnualTicketSales['TOTAL BOX OFFICE'] = AnnualTicketSales['TOTAL BOX OFFICE'].str.replace(',','')\n",
        "AnnualTicketSales['TOTAL BOX OFFICE'] = AnnualTicketSales['TOTAL BOX OFFICE'].str.replace('$','')\n",
        "\n",
        "AnnualTicketSales['TOTAL INFLATION ADJUSTED BOX OFFICE'] = AnnualTicketSales['TOTAL INFLATION ADJUSTED BOX OFFICE'].str.replace(',', '')\n",
        "AnnualTicketSales['TOTAL INFLATION ADJUSTED BOX OFFICE'] = AnnualTicketSales['TOTAL INFLATION ADJUSTED BOX OFFICE'].str.replace('$', '')\n",
        "\n",
        "AnnualTicketSales['AVERAGE TICKET PRICE'] = AnnualTicketSales['AVERAGE TICKET PRICE'].str.replace('$', '')\n",
        "\n",
        "AnnualTicketSales['TICKETS SOLD'] = AnnualTicketSales['TICKETS SOLD'].str.replace(',','')\n",
        "\n",
        "AnnualTicketSales.drop('Unnamed: 5', axis = 1 , inplace = True)"
      ],
      "metadata": {
        "execution": {
          "iopub.status.busy": "2022-03-06T15:02:24.72906Z",
          "iopub.execute_input": "2022-03-06T15:02:24.729277Z",
          "iopub.status.idle": "2022-03-06T15:02:24.74943Z",
          "shell.execute_reply.started": "2022-03-06T15:02:24.729251Z",
          "shell.execute_reply": "2022-03-06T15:02:24.748615Z"
        },
        "trusted": true,
        "id": "PnVI5Ya4f3Em"
      },
      "execution_count": null,
      "outputs": []
    },
    {
      "cell_type": "code",
      "source": [
        "AnnualTicketSales.head(10)"
      ],
      "metadata": {
        "execution": {
          "iopub.status.busy": "2022-03-06T15:02:24.751123Z",
          "iopub.execute_input": "2022-03-06T15:02:24.751348Z",
          "iopub.status.idle": "2022-03-06T15:02:24.769615Z",
          "shell.execute_reply.started": "2022-03-06T15:02:24.751322Z",
          "shell.execute_reply": "2022-03-06T15:02:24.768824Z"
        },
        "trusted": true,
        "id": "TeNH8mf8f3Em"
      },
      "execution_count": null,
      "outputs": []
    },
    {
      "cell_type": "code",
      "source": [
        "AnnualTicketSales.dtypes"
      ],
      "metadata": {
        "execution": {
          "iopub.status.busy": "2022-03-06T15:02:24.770659Z",
          "iopub.execute_input": "2022-03-06T15:02:24.770864Z",
          "iopub.status.idle": "2022-03-06T15:02:24.785058Z",
          "shell.execute_reply.started": "2022-03-06T15:02:24.770839Z",
          "shell.execute_reply": "2022-03-06T15:02:24.784047Z"
        },
        "trusted": true,
        "id": "IAWZtnAyf3Em"
      },
      "execution_count": null,
      "outputs": []
    },
    {
      "cell_type": "code",
      "source": [
        "AnnualTicketSales[\"TOTAL BOX OFFICE\"] = AnnualTicketSales[\"TOTAL BOX OFFICE\"].astype(str).astype(int)\n",
        "AnnualTicketSales[\"TICKETS SOLD\"] = AnnualTicketSales[\"TICKETS SOLD\"].astype(str).astype(int)\n",
        "AnnualTicketSales[\"TOTAL INFLATION ADJUSTED BOX OFFICE\"] = AnnualTicketSales[\"TOTAL INFLATION ADJUSTED BOX OFFICE\"].astype(str).astype(int)\n",
        "AnnualTicketSales[\"AVERAGE TICKET PRICE\"] = AnnualTicketSales[\"AVERAGE TICKET PRICE\"].astype(str).astype(float)"
      ],
      "metadata": {
        "execution": {
          "iopub.status.busy": "2022-03-06T15:02:24.786621Z",
          "iopub.execute_input": "2022-03-06T15:02:24.786846Z",
          "iopub.status.idle": "2022-03-06T15:02:24.794906Z",
          "shell.execute_reply.started": "2022-03-06T15:02:24.78682Z",
          "shell.execute_reply": "2022-03-06T15:02:24.794086Z"
        },
        "trusted": true,
        "id": "b_mv0-cTf3En"
      },
      "execution_count": null,
      "outputs": []
    },
    {
      "cell_type": "code",
      "source": [
        "AnnualTicketSales.dtypes"
      ],
      "metadata": {
        "execution": {
          "iopub.status.busy": "2022-03-06T15:02:24.796234Z",
          "iopub.execute_input": "2022-03-06T15:02:24.796656Z",
          "iopub.status.idle": "2022-03-06T15:02:24.808682Z",
          "shell.execute_reply.started": "2022-03-06T15:02:24.796624Z",
          "shell.execute_reply": "2022-03-06T15:02:24.808116Z"
        },
        "trusted": true,
        "id": "pKgSHoftf3En"
      },
      "execution_count": null,
      "outputs": []
    },
    {
      "cell_type": "code",
      "source": [
        "AnnualTicketSales.isnull().sum()"
      ],
      "metadata": {
        "execution": {
          "iopub.status.busy": "2022-03-06T15:02:24.809596Z",
          "iopub.execute_input": "2022-03-06T15:02:24.810343Z",
          "iopub.status.idle": "2022-03-06T15:02:24.824538Z",
          "shell.execute_reply.started": "2022-03-06T15:02:24.810273Z",
          "shell.execute_reply": "2022-03-06T15:02:24.823506Z"
        },
        "trusted": true,
        "id": "1zFGE0U_f3En"
      },
      "execution_count": null,
      "outputs": []
    },
    {
      "cell_type": "code",
      "source": [
        "ax = sns.catplot(x='YEAR', y='TICKETS SOLD', kind='bar', data=AnnualTicketSales, palette=\"Blues_d\")\n",
        "plt.title('TICKETS SOLD each year',loc='center',fontweight=\"bold\")\n",
        "plt.ylabel(\"TICKETS SOLD in billion\")\n",
        "plt.xticks(rotation=90)\n",
        "ax.fig.set_figwidth(15)\n",
        "ax.fig.set_figheight(8)\n",
        "plt.grid(True)"
      ],
      "metadata": {
        "execution": {
          "iopub.status.busy": "2022-03-06T15:02:24.826175Z",
          "iopub.execute_input": "2022-03-06T15:02:24.82704Z",
          "iopub.status.idle": "2022-03-06T15:02:25.362424Z",
          "shell.execute_reply.started": "2022-03-06T15:02:24.826959Z",
          "shell.execute_reply": "2022-03-06T15:02:25.361587Z"
        },
        "trusted": true,
        "id": "uAcRk-3ff3En"
      },
      "execution_count": null,
      "outputs": []
    },
    {
      "cell_type": "code",
      "source": [
        "ax = sns.catplot(x='YEAR', y='TOTAL BOX OFFICE', kind='bar', data=AnnualTicketSales, palette=\"Blues_d\")\n",
        "plt.title('TOTAL BOX OFFICE each year',loc='center',fontweight=\"bold\")\n",
        "plt.ylabel(\"TICKETS SOLD in billion\")\n",
        "plt.xticks(rotation=90)\n",
        "ax.fig.set_figwidth(15)\n",
        "ax.fig.set_figheight(8)\n",
        "plt.grid(True)"
      ],
      "metadata": {
        "execution": {
          "iopub.status.busy": "2022-03-06T15:02:25.365134Z",
          "iopub.execute_input": "2022-03-06T15:02:25.365386Z",
          "iopub.status.idle": "2022-03-06T15:02:25.887052Z",
          "shell.execute_reply.started": "2022-03-06T15:02:25.365356Z",
          "shell.execute_reply": "2022-03-06T15:02:25.885982Z"
        },
        "trusted": true,
        "id": "26laVLPlf3En"
      },
      "execution_count": null,
      "outputs": []
    },
    {
      "cell_type": "code",
      "source": [
        "AnnualTicketSales.info()"
      ],
      "metadata": {
        "execution": {
          "iopub.status.busy": "2022-03-06T15:02:25.888176Z",
          "iopub.execute_input": "2022-03-06T15:02:25.888384Z",
          "iopub.status.idle": "2022-03-06T15:02:25.901364Z",
          "shell.execute_reply.started": "2022-03-06T15:02:25.888358Z",
          "shell.execute_reply": "2022-03-06T15:02:25.900255Z"
        },
        "trusted": true,
        "id": "HZ3UU3jVf3En"
      },
      "execution_count": null,
      "outputs": []
    },
    {
      "cell_type": "code",
      "source": [
        "ax = sns.catplot(x='YEAR', y='AVERAGE TICKET PRICE', kind='bar', data=AnnualTicketSales, palette=\"Blues_d\")\n",
        "plt.title('AVERAGE TICKET PRICE each year',loc='center',fontweight=\"bold\")\n",
        "plt.ylabel(\"AVERAGE TICKET PRICE in $\")\n",
        "plt.xticks(rotation=90)\n",
        "ax.fig.set_figwidth(15)\n",
        "ax.fig.set_figheight(8)\n",
        "plt.grid(True)"
      ],
      "metadata": {
        "execution": {
          "iopub.status.busy": "2022-03-06T15:02:25.902835Z",
          "iopub.execute_input": "2022-03-06T15:02:25.903166Z",
          "iopub.status.idle": "2022-03-06T15:02:26.421727Z",
          "shell.execute_reply.started": "2022-03-06T15:02:25.903125Z",
          "shell.execute_reply": "2022-03-06T15:02:26.420807Z"
        },
        "trusted": true,
        "id": "hwgyoyuvf3En"
      },
      "execution_count": null,
      "outputs": []
    },
    {
      "cell_type": "markdown",
      "source": [
        "# **Highest Grossers**"
      ],
      "metadata": {
        "id": "Wnbi3g08f3En"
      }
    },
    {
      "cell_type": "code",
      "source": [
        "HighestGrossers.info()"
      ],
      "metadata": {
        "execution": {
          "iopub.status.busy": "2022-03-06T15:02:26.422966Z",
          "iopub.execute_input": "2022-03-06T15:02:26.423197Z",
          "iopub.status.idle": "2022-03-06T15:02:26.437172Z",
          "shell.execute_reply.started": "2022-03-06T15:02:26.42317Z",
          "shell.execute_reply": "2022-03-06T15:02:26.435635Z"
        },
        "trusted": true,
        "id": "myxOs5v3f3En"
      },
      "execution_count": null,
      "outputs": []
    },
    {
      "cell_type": "code",
      "source": [
        "HighestGrossers.head(10)"
      ],
      "metadata": {
        "execution": {
          "iopub.status.busy": "2022-03-06T15:02:26.440433Z",
          "iopub.execute_input": "2022-03-06T15:02:26.440668Z",
          "iopub.status.idle": "2022-03-06T15:02:26.456035Z",
          "shell.execute_reply.started": "2022-03-06T15:02:26.44064Z",
          "shell.execute_reply": "2022-03-06T15:02:26.455073Z"
        },
        "trusted": true,
        "id": "0RD6yNxXf3En"
      },
      "execution_count": null,
      "outputs": []
    },
    {
      "cell_type": "code",
      "source": [
        "HighestGrossers['TOTAL FOR YEAR'] = HighestGrossers['TOTAL FOR YEAR'].str.replace(',','')\n",
        "HighestGrossers['TOTAL FOR YEAR'] = HighestGrossers['TOTAL FOR YEAR'].str.replace('$','')\n",
        "HighestGrossers['TOTAL FOR YEAR'] = HighestGrossers['TOTAL FOR YEAR'].astype(str).astype(int)"
      ],
      "metadata": {
        "execution": {
          "iopub.status.busy": "2022-03-06T15:02:26.45753Z",
          "iopub.execute_input": "2022-03-06T15:02:26.457787Z",
          "iopub.status.idle": "2022-03-06T15:02:26.466588Z",
          "shell.execute_reply.started": "2022-03-06T15:02:26.457749Z",
          "shell.execute_reply": "2022-03-06T15:02:26.465852Z"
        },
        "trusted": true,
        "id": "bCxw_By_f3En"
      },
      "execution_count": null,
      "outputs": []
    },
    {
      "cell_type": "code",
      "source": [
        "plt.pie(HighestGrossers['TOTAL FOR YEAR'],labels = HighestGrossers['MOVIE'],autopct='%1.1f%%', colors=sns.color_palette('Blues_d'),radius=3,shadow=True)\n",
        "plt.show()"
      ],
      "metadata": {
        "execution": {
          "iopub.status.busy": "2022-03-06T15:02:26.467501Z",
          "iopub.execute_input": "2022-03-06T15:02:26.467737Z",
          "iopub.status.idle": "2022-03-06T15:02:27.319584Z",
          "shell.execute_reply.started": "2022-03-06T15:02:26.467711Z",
          "shell.execute_reply": "2022-03-06T15:02:27.318462Z"
        },
        "trusted": true,
        "id": "FkWeNW6nf3En"
      },
      "execution_count": null,
      "outputs": []
    },
    {
      "cell_type": "code",
      "source": [
        "HighestGrossers['MOVIE'] = HighestGrossers['MOVIE'].astype(str).astype(str)"
      ],
      "metadata": {
        "execution": {
          "iopub.status.busy": "2022-03-06T15:02:27.320989Z",
          "iopub.execute_input": "2022-03-06T15:02:27.321265Z",
          "iopub.status.idle": "2022-03-06T15:02:27.328024Z",
          "shell.execute_reply.started": "2022-03-06T15:02:27.321234Z",
          "shell.execute_reply": "2022-03-06T15:02:27.326964Z"
        },
        "trusted": true,
        "id": "xt8D5oZof3En"
      },
      "execution_count": null,
      "outputs": []
    },
    {
      "cell_type": "code",
      "source": [
        "HighestGrossers.info()"
      ],
      "metadata": {
        "execution": {
          "iopub.status.busy": "2022-03-06T15:02:27.329366Z",
          "iopub.execute_input": "2022-03-06T15:02:27.329718Z",
          "iopub.status.idle": "2022-03-06T15:02:27.346809Z",
          "shell.execute_reply.started": "2022-03-06T15:02:27.329679Z",
          "shell.execute_reply": "2022-03-06T15:02:27.345871Z"
        },
        "trusted": true,
        "id": "Z5nsITUHf3Eo"
      },
      "execution_count": null,
      "outputs": []
    },
    {
      "cell_type": "code",
      "source": [
        "ax = sns.catplot(x='MOVIE', y='TOTAL FOR YEAR', kind='bar', data=HighestGrossers, palette=\"Blues_d\")\n",
        "plt.title('HIGHEST GROSSERS MOVIE each YEAR',loc='center',fontweight=\"bold\")\n",
        "plt.ylabel(\"TOTAL FOR YEAR in billion\")\n",
        "plt.xticks(rotation=90)\n",
        "ax.fig.set_figwidth(25)\n",
        "ax.fig.set_figheight(8)\n",
        "plt.grid(True)"
      ],
      "metadata": {
        "execution": {
          "iopub.status.busy": "2022-03-06T15:02:27.348268Z",
          "iopub.execute_input": "2022-03-06T15:02:27.348538Z",
          "iopub.status.idle": "2022-03-06T15:02:27.957593Z",
          "shell.execute_reply.started": "2022-03-06T15:02:27.34851Z",
          "shell.execute_reply": "2022-03-06T15:02:27.956765Z"
        },
        "trusted": true,
        "id": "F6Hjbnyuf3Eo"
      },
      "execution_count": null,
      "outputs": []
    },
    {
      "cell_type": "markdown",
      "source": [
        "**In 2019 Dollars**"
      ],
      "metadata": {
        "id": "9XOdKvDMf3Eo"
      }
    },
    {
      "cell_type": "code",
      "source": [
        "HighestGrossers['TOTAL IN 2019 DOLLARS'] = HighestGrossers['TOTAL IN 2019 DOLLARS'].str.replace(',','')\n",
        "HighestGrossers['TOTAL IN 2019 DOLLARS'] = HighestGrossers['TOTAL IN 2019 DOLLARS'].str.replace('$','')\n",
        "HighestGrossers['TOTAL IN 2019 DOLLARS'] = HighestGrossers['TOTAL IN 2019 DOLLARS'].astype(str).astype(int)"
      ],
      "metadata": {
        "execution": {
          "iopub.status.busy": "2022-03-06T15:02:27.958944Z",
          "iopub.execute_input": "2022-03-06T15:02:27.959588Z",
          "iopub.status.idle": "2022-03-06T15:02:27.969366Z",
          "shell.execute_reply.started": "2022-03-06T15:02:27.959551Z",
          "shell.execute_reply": "2022-03-06T15:02:27.968695Z"
        },
        "trusted": true,
        "id": "VBGECKMqf3Eo"
      },
      "execution_count": null,
      "outputs": []
    },
    {
      "cell_type": "code",
      "source": [
        "plt.pie(HighestGrossers['TOTAL IN 2019 DOLLARS'],labels = HighestGrossers['MOVIE'],autopct='%1.1f%%', colors=sns.color_palette('Blues_d'),radius=3,shadow=True)\n",
        "plt.show()"
      ],
      "metadata": {
        "execution": {
          "iopub.status.busy": "2022-03-06T15:02:27.970479Z",
          "iopub.execute_input": "2022-03-06T15:02:27.971421Z",
          "iopub.status.idle": "2022-03-06T15:02:28.558359Z",
          "shell.execute_reply.started": "2022-03-06T15:02:27.97138Z",
          "shell.execute_reply": "2022-03-06T15:02:28.557374Z"
        },
        "trusted": true,
        "id": "E8Q7ZdmFf3Eo"
      },
      "execution_count": null,
      "outputs": []
    },
    {
      "cell_type": "code",
      "source": [
        "ax = sns.catplot(x='MOVIE', y='TOTAL IN 2019 DOLLARS', kind='bar', data=HighestGrossers, palette=\"Blues_d\")\n",
        "plt.title('HIGHEST GROSSERS MOVIE each YEAR in 2019 Dollars',loc='center',fontweight=\"bold\")\n",
        "plt.ylabel(\"TOTAL FOR YEAR in billion\")\n",
        "plt.xticks(rotation=90)\n",
        "ax.fig.set_figwidth(25)\n",
        "ax.fig.set_figheight(8)\n",
        "plt.grid(True)"
      ],
      "metadata": {
        "execution": {
          "iopub.status.busy": "2022-03-06T15:02:28.559875Z",
          "iopub.execute_input": "2022-03-06T15:02:28.560529Z",
          "iopub.status.idle": "2022-03-06T15:02:29.092532Z",
          "shell.execute_reply.started": "2022-03-06T15:02:28.56048Z",
          "shell.execute_reply": "2022-03-06T15:02:29.091678Z"
        },
        "trusted": true,
        "id": "f5VR75Krf3Eo"
      },
      "execution_count": null,
      "outputs": []
    },
    {
      "cell_type": "markdown",
      "source": [
        "# **Popular Creative Types**"
      ],
      "metadata": {
        "id": "09wM-WXPf3Eo"
      }
    },
    {
      "cell_type": "code",
      "source": [
        "PopularCreativeTypes"
      ],
      "metadata": {
        "execution": {
          "iopub.status.busy": "2022-03-06T15:02:29.093884Z",
          "iopub.execute_input": "2022-03-06T15:02:29.094125Z",
          "iopub.status.idle": "2022-03-06T15:02:29.106998Z",
          "shell.execute_reply.started": "2022-03-06T15:02:29.094095Z",
          "shell.execute_reply": "2022-03-06T15:02:29.10642Z"
        },
        "trusted": true,
        "id": "y61WyD-qf3Eo"
      },
      "execution_count": null,
      "outputs": []
    },
    {
      "cell_type": "code",
      "source": [
        "PopularCreativeTypes.info()"
      ],
      "metadata": {
        "execution": {
          "iopub.status.busy": "2022-03-06T15:02:29.1082Z",
          "iopub.execute_input": "2022-03-06T15:02:29.108582Z",
          "iopub.status.idle": "2022-03-06T15:02:29.126166Z",
          "shell.execute_reply.started": "2022-03-06T15:02:29.108553Z",
          "shell.execute_reply": "2022-03-06T15:02:29.125329Z"
        },
        "trusted": true,
        "id": "SXw5nXNgf3Eo"
      },
      "execution_count": null,
      "outputs": []
    },
    {
      "cell_type": "code",
      "source": [
        "PopularCreativeTypes = PopularCreativeTypes.drop([9])"
      ],
      "metadata": {
        "execution": {
          "iopub.status.busy": "2022-03-06T15:02:29.127351Z",
          "iopub.execute_input": "2022-03-06T15:02:29.128265Z",
          "iopub.status.idle": "2022-03-06T15:02:29.139875Z",
          "shell.execute_reply.started": "2022-03-06T15:02:29.128229Z",
          "shell.execute_reply": "2022-03-06T15:02:29.139181Z"
        },
        "trusted": true,
        "id": "1cu_AEK8f3Eo"
      },
      "execution_count": null,
      "outputs": []
    },
    {
      "cell_type": "code",
      "source": [
        "PopularCreativeTypes"
      ],
      "metadata": {
        "execution": {
          "iopub.status.busy": "2022-03-06T15:02:29.141027Z",
          "iopub.execute_input": "2022-03-06T15:02:29.141773Z",
          "iopub.status.idle": "2022-03-06T15:02:29.163754Z",
          "shell.execute_reply.started": "2022-03-06T15:02:29.141733Z",
          "shell.execute_reply": "2022-03-06T15:02:29.162665Z"
        },
        "trusted": true,
        "id": "x7drgSaSf3Eo"
      },
      "execution_count": null,
      "outputs": []
    },
    {
      "cell_type": "code",
      "source": [
        "PopularCreativeTypes['MOVIES'] = PopularCreativeTypes['MOVIES'].str.replace(',','')\n",
        "PopularCreativeTypes['MOVIES'] = PopularCreativeTypes['MOVIES'].astype(str).astype(int)\n",
        "\n",
        "PopularCreativeTypes['MARKET SHARE'] = PopularCreativeTypes['MARKET SHARE'].str.replace('%','')\n",
        "PopularCreativeTypes['MARKET SHARE'] = PopularCreativeTypes['MARKET SHARE'].astype(str).astype(float)\n",
        "\n",
        "PopularCreativeTypes['TOTAL GROSS'] = PopularCreativeTypes['TOTAL GROSS'].str.replace(',','')\n",
        "PopularCreativeTypes['TOTAL GROSS'] = PopularCreativeTypes['TOTAL GROSS'].str.replace('$','')\n",
        "PopularCreativeTypes['TOTAL GROSS'] = PopularCreativeTypes['TOTAL GROSS'].astype(str).astype(int)\n",
        "\n",
        "PopularCreativeTypes['AVERAGE GROSS'] = PopularCreativeTypes['AVERAGE GROSS'].str.replace(',','')\n",
        "PopularCreativeTypes['AVERAGE GROSS'] = PopularCreativeTypes['AVERAGE GROSS'].str.replace('$','')\n",
        "PopularCreativeTypes['AVERAGE GROSS'] = PopularCreativeTypes['AVERAGE GROSS'].astype(str).astype(int)"
      ],
      "metadata": {
        "execution": {
          "iopub.status.busy": "2022-03-06T15:02:29.166005Z",
          "iopub.execute_input": "2022-03-06T15:02:29.166562Z",
          "iopub.status.idle": "2022-03-06T15:02:29.184001Z",
          "shell.execute_reply.started": "2022-03-06T15:02:29.166521Z",
          "shell.execute_reply": "2022-03-06T15:02:29.183062Z"
        },
        "trusted": true,
        "id": "qtAJiAjVf3Eo"
      },
      "execution_count": null,
      "outputs": []
    },
    {
      "cell_type": "code",
      "source": [
        "plt.pie(PopularCreativeTypes['MARKET SHARE'],labels = PopularCreativeTypes['CREATIVE TYPES'],autopct='%1.1f%%', colors=sns.color_palette('Blues_d'),radius=3,shadow=True)\n",
        "plt.title('MARKET SHARE',fontweight=\"bold\")\n",
        "plt.show()"
      ],
      "metadata": {
        "execution": {
          "iopub.status.busy": "2022-03-06T15:02:57.597296Z",
          "iopub.execute_input": "2022-03-06T15:02:57.597849Z",
          "iopub.status.idle": "2022-03-06T15:02:57.870065Z",
          "shell.execute_reply.started": "2022-03-06T15:02:57.59781Z",
          "shell.execute_reply": "2022-03-06T15:02:57.869208Z"
        },
        "trusted": true,
        "id": "JHj5gbk5f3Eo"
      },
      "execution_count": null,
      "outputs": []
    },
    {
      "cell_type": "code",
      "source": [
        "ax = sns.catplot(x='CREATIVE TYPES', y='MOVIES', kind='bar', data=PopularCreativeTypes, palette=\"Blues_d\")\n",
        "plt.title('CREATIE TYPE based on Movie make',loc='center',fontweight=\"bold\")\n",
        "plt.ylabel(\"Number of Movies\")\n",
        "plt.xticks(rotation=90)\n",
        "ax.fig.set_figwidth(25)\n",
        "ax.fig.set_figheight(8)\n",
        "plt.grid(True)"
      ],
      "metadata": {
        "execution": {
          "iopub.status.busy": "2022-03-06T15:02:29.41154Z",
          "iopub.execute_input": "2022-03-06T15:02:29.411803Z",
          "iopub.status.idle": "2022-03-06T15:02:29.816343Z",
          "shell.execute_reply.started": "2022-03-06T15:02:29.411776Z",
          "shell.execute_reply": "2022-03-06T15:02:29.815485Z"
        },
        "trusted": true,
        "id": "GbcBYpMFf3Eo"
      },
      "execution_count": null,
      "outputs": []
    },
    {
      "cell_type": "code",
      "source": [
        "ax = sns.catplot(x='CREATIVE TYPES', y='TOTAL GROSS', kind='bar', data=PopularCreativeTypes, palette=\"Blues_d\")\n",
        "plt.title('TOTAL GROSS on CREATIVE TYPE',loc='center',fontweight=\"bold\")\n",
        "plt.ylabel(\"TOTAL GROSS\")\n",
        "plt.xticks(rotation=90)\n",
        "ax.fig.set_figwidth(25)\n",
        "ax.fig.set_figheight(8)\n",
        "plt.grid(True)"
      ],
      "metadata": {
        "execution": {
          "iopub.status.busy": "2022-03-06T15:02:29.81756Z",
          "iopub.execute_input": "2022-03-06T15:02:29.817793Z",
          "iopub.status.idle": "2022-03-06T15:02:30.196869Z",
          "shell.execute_reply.started": "2022-03-06T15:02:29.817765Z",
          "shell.execute_reply": "2022-03-06T15:02:30.195765Z"
        },
        "trusted": true,
        "id": "_dFJKFwLf3Eo"
      },
      "execution_count": null,
      "outputs": []
    },
    {
      "cell_type": "code",
      "source": [
        "ax = sns.catplot(x='CREATIVE TYPES', y='AVERAGE GROSS', kind='bar', data=PopularCreativeTypes, palette=\"Blues_d\")\n",
        "plt.title('AVERAGE GROSS on CREATIVE TYPE',loc='center',fontweight=\"bold\")\n",
        "plt.ylabel(\"AVERAGE GROSS\")\n",
        "plt.xticks(rotation=90)\n",
        "ax.fig.set_figwidth(25)\n",
        "ax.fig.set_figheight(8)\n",
        "plt.grid(True)"
      ],
      "metadata": {
        "execution": {
          "iopub.status.busy": "2022-03-06T15:02:30.198384Z",
          "iopub.execute_input": "2022-03-06T15:02:30.198615Z",
          "iopub.status.idle": "2022-03-06T15:02:30.595679Z",
          "shell.execute_reply.started": "2022-03-06T15:02:30.198584Z",
          "shell.execute_reply": "2022-03-06T15:02:30.59504Z"
        },
        "trusted": true,
        "id": "ftpnXEoEf3Eo"
      },
      "execution_count": null,
      "outputs": []
    },
    {
      "cell_type": "markdown",
      "source": [
        "# **Top Distributors**"
      ],
      "metadata": {
        "id": "dAzuKyVFf3Eo"
      }
    },
    {
      "cell_type": "code",
      "source": [
        "TopDistributors"
      ],
      "metadata": {
        "execution": {
          "iopub.status.busy": "2022-03-06T15:02:30.596831Z",
          "iopub.execute_input": "2022-03-06T15:02:30.597232Z",
          "iopub.status.idle": "2022-03-06T15:02:30.610092Z",
          "shell.execute_reply.started": "2022-03-06T15:02:30.597197Z",
          "shell.execute_reply": "2022-03-06T15:02:30.608959Z"
        },
        "trusted": true,
        "id": "0EIOmeUJf3Eo"
      },
      "execution_count": null,
      "outputs": []
    },
    {
      "cell_type": "code",
      "source": [
        "TopDistributors['MARKET SHARE'] = TopDistributors['MARKET SHARE'].str.replace('%','')\n",
        "TopDistributors['MARKET SHARE'] = TopDistributors['MARKET SHARE'].astype(str).astype(float)\n",
        "\n",
        "TopDistributors['TOTAL GROSS'] = TopDistributors['TOTAL GROSS'].str.replace(',','')\n",
        "TopDistributors['TOTAL GROSS'] = TopDistributors['TOTAL GROSS'].str.replace('$','')\n",
        "TopDistributors['TOTAL GROSS'] = TopDistributors['TOTAL GROSS'].astype(str).astype(int)\n",
        "\n",
        "TopDistributors['AVERAGE GROSS'] = TopDistributors['AVERAGE GROSS'].str.replace(',','')\n",
        "TopDistributors['AVERAGE GROSS'] = TopDistributors['AVERAGE GROSS'].str.replace('$','')\n",
        "TopDistributors['AVERAGE GROSS'] = TopDistributors['AVERAGE GROSS'].astype(str).astype(int)"
      ],
      "metadata": {
        "execution": {
          "iopub.status.busy": "2022-03-06T15:12:22.371888Z",
          "iopub.execute_input": "2022-03-06T15:12:22.372246Z",
          "iopub.status.idle": "2022-03-06T15:12:22.386781Z",
          "shell.execute_reply.started": "2022-03-06T15:12:22.372215Z",
          "shell.execute_reply": "2022-03-06T15:12:22.385889Z"
        },
        "trusted": true,
        "id": "V1uT1D_kf3E0"
      },
      "execution_count": null,
      "outputs": []
    },
    {
      "cell_type": "code",
      "source": [
        "plt.pie(TopDistributors['MARKET SHARE'],labels = TopDistributors['DISTRIBUTORS'],autopct='%1.1f%%', colors=sns.color_palette('Blues_d'),radius=3,shadow=True)\n",
        "plt.title('MARKET SHARE',fontweight=\"bold\")\n",
        "plt.show()"
      ],
      "metadata": {
        "execution": {
          "iopub.status.busy": "2022-03-06T15:13:33.055067Z",
          "iopub.execute_input": "2022-03-06T15:13:33.055452Z",
          "iopub.status.idle": "2022-03-06T15:13:33.325864Z",
          "shell.execute_reply.started": "2022-03-06T15:13:33.055426Z",
          "shell.execute_reply": "2022-03-06T15:13:33.325033Z"
        },
        "trusted": true,
        "id": "iPaKXE2ef3E0"
      },
      "execution_count": null,
      "outputs": []
    },
    {
      "cell_type": "code",
      "source": [
        "ax = sns.catplot(x='DISTRIBUTORS', y='TOTAL GROSS', kind='bar', data=TopDistributors, palette=\"Blues_d\")\n",
        "plt.title('DISTRIBUTORS based on TOTAL GROSS',loc='center',fontweight=\"bold\")\n",
        "plt.ylabel(\"TOTAL GROSS\")\n",
        "plt.xticks(rotation=90)\n",
        "ax.fig.set_figwidth(25)\n",
        "ax.fig.set_figheight(8)\n",
        "plt.grid(True)"
      ],
      "metadata": {
        "execution": {
          "iopub.status.busy": "2022-03-06T15:14:48.91784Z",
          "iopub.execute_input": "2022-03-06T15:14:48.918692Z",
          "iopub.status.idle": "2022-03-06T15:14:49.342272Z",
          "shell.execute_reply.started": "2022-03-06T15:14:48.918649Z",
          "shell.execute_reply": "2022-03-06T15:14:49.341387Z"
        },
        "trusted": true,
        "id": "qcL7qpp_f3E0"
      },
      "execution_count": null,
      "outputs": []
    },
    {
      "cell_type": "code",
      "source": [
        "ax = sns.catplot(x='DISTRIBUTORS', y='AVERAGE GROSS', kind='bar', data=TopDistributors, palette=\"Blues_d\")\n",
        "plt.title('DISTRIBUTORS based on AVERAGE GROSS',loc='center',fontweight=\"bold\")\n",
        "plt.ylabel(\"AVERAGE GROSS\")\n",
        "plt.xticks(rotation=90)\n",
        "ax.fig.set_figwidth(25)\n",
        "ax.fig.set_figheight(8)\n",
        "plt.grid(True)"
      ],
      "metadata": {
        "execution": {
          "iopub.status.busy": "2022-03-06T15:19:46.416154Z",
          "iopub.execute_input": "2022-03-06T15:19:46.416482Z",
          "iopub.status.idle": "2022-03-06T15:19:46.756703Z",
          "shell.execute_reply.started": "2022-03-06T15:19:46.416452Z",
          "shell.execute_reply": "2022-03-06T15:19:46.755538Z"
        },
        "trusted": true,
        "id": "UNTcNgRof3E0"
      },
      "execution_count": null,
      "outputs": []
    }
  ]
}