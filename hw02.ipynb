{
  "cells": [
    {
      "cell_type": "markdown",
      "metadata": {
        "id": "view-in-github",
        "colab_type": "text"
      },
      "source": [
        "<a href=\"https://colab.research.google.com/github/jmcnerney1/Jack-Mcnerney-Python/blob/main/hw02.ipynb\" target=\"_parent\"><img src=\"https://colab.research.google.com/assets/colab-badge.svg\" alt=\"Open In Colab\"/></a>"
      ]
    },
    {
      "cell_type": "markdown",
      "metadata": {
        "id": "Az6-dTTPZaKS"
      },
      "source": [
        "Special thanks to: https://github.com/justmarkham for sharing the dataset and materials."
      ]
    },
    {
      "cell_type": "code",
      "execution_count": 4,
      "metadata": {
        "id": "JXY1RV6CZaKS"
      },
      "outputs": [],
      "source": [
        "import pandas as pd\n",
        "import numpy as np"
      ]
    },
    {
      "cell_type": "markdown",
      "metadata": {
        "id": "twy9DviyZaKT"
      },
      "source": [
        "### Step 3. Read the following URL and assign it to a variable called chipo.    \n",
        "NOTE: It is a TSV file, not CSV. Find out how to read TSV using read_csv in Pandas.\n",
        "\n"
      ]
    },
    {
      "cell_type": "code",
      "execution_count": 5,
      "metadata": {
        "id": "A1AAH0_aZaKU"
      },
      "outputs": [],
      "source": [
        "url = 'https://raw.githubusercontent.com/justmarkham/DAT8/master/data/chipotle.tsv'\n",
        "\n",
        "chipo = pd.read_csv(url, sep = '\\t')"
      ]
    },
    {
      "cell_type": "markdown",
      "metadata": {
        "id": "jJ13PCzbZaKU"
      },
      "source": [
        "### Show/print the first **20** entries"
      ]
    },
    {
      "cell_type": "code",
      "execution_count": 6,
      "metadata": {
        "scrolled": false,
        "id": "jIouRW4rZaKU",
        "colab": {
          "base_uri": "https://localhost:8080/",
          "height": 677
        },
        "outputId": "068264ca-e7e8-4bdd-afea-7ec5dace556d"
      },
      "outputs": [
        {
          "output_type": "execute_result",
          "data": {
            "text/plain": [
              "    order_id  quantity                              item_name  \\\n",
              "0          1         1           Chips and Fresh Tomato Salsa   \n",
              "1          1         1                                   Izze   \n",
              "2          1         1                       Nantucket Nectar   \n",
              "3          1         1  Chips and Tomatillo-Green Chili Salsa   \n",
              "4          2         2                           Chicken Bowl   \n",
              "5          3         1                           Chicken Bowl   \n",
              "6          3         1                          Side of Chips   \n",
              "7          4         1                          Steak Burrito   \n",
              "8          4         1                       Steak Soft Tacos   \n",
              "9          5         1                          Steak Burrito   \n",
              "10         5         1                    Chips and Guacamole   \n",
              "11         6         1                   Chicken Crispy Tacos   \n",
              "12         6         1                     Chicken Soft Tacos   \n",
              "13         7         1                           Chicken Bowl   \n",
              "14         7         1                    Chips and Guacamole   \n",
              "15         8         1  Chips and Tomatillo-Green Chili Salsa   \n",
              "16         8         1                        Chicken Burrito   \n",
              "17         9         1                        Chicken Burrito   \n",
              "18         9         2                            Canned Soda   \n",
              "19        10         1                           Chicken Bowl   \n",
              "\n",
              "                                   choice_description item_price  \n",
              "0                                                 NaN     $2.39   \n",
              "1                                        [Clementine]     $3.39   \n",
              "2                                             [Apple]     $3.39   \n",
              "3                                                 NaN     $2.39   \n",
              "4   [Tomatillo-Red Chili Salsa (Hot), [Black Beans...    $16.98   \n",
              "5   [Fresh Tomato Salsa (Mild), [Rice, Cheese, Sou...    $10.98   \n",
              "6                                                 NaN     $1.69   \n",
              "7   [Tomatillo Red Chili Salsa, [Fajita Vegetables...    $11.75   \n",
              "8   [Tomatillo Green Chili Salsa, [Pinto Beans, Ch...     $9.25   \n",
              "9   [Fresh Tomato Salsa, [Rice, Black Beans, Pinto...     $9.25   \n",
              "10                                                NaN     $4.45   \n",
              "11  [Roasted Chili Corn Salsa, [Fajita Vegetables,...     $8.75   \n",
              "12  [Roasted Chili Corn Salsa, [Rice, Black Beans,...     $8.75   \n",
              "13  [Fresh Tomato Salsa, [Fajita Vegetables, Rice,...    $11.25   \n",
              "14                                                NaN     $4.45   \n",
              "15                                                NaN     $2.39   \n",
              "16  [Tomatillo-Green Chili Salsa (Medium), [Pinto ...     $8.49   \n",
              "17  [Fresh Tomato Salsa (Mild), [Black Beans, Rice...     $8.49   \n",
              "18                                           [Sprite]     $2.18   \n",
              "19  [Tomatillo Red Chili Salsa, [Fajita Vegetables...     $8.75   "
            ],
            "text/html": [
              "\n",
              "  <div id=\"df-fba236a9-3ba7-4fe3-b711-bd4a4d63e1b9\" class=\"colab-df-container\">\n",
              "    <div>\n",
              "<style scoped>\n",
              "    .dataframe tbody tr th:only-of-type {\n",
              "        vertical-align: middle;\n",
              "    }\n",
              "\n",
              "    .dataframe tbody tr th {\n",
              "        vertical-align: top;\n",
              "    }\n",
              "\n",
              "    .dataframe thead th {\n",
              "        text-align: right;\n",
              "    }\n",
              "</style>\n",
              "<table border=\"1\" class=\"dataframe\">\n",
              "  <thead>\n",
              "    <tr style=\"text-align: right;\">\n",
              "      <th></th>\n",
              "      <th>order_id</th>\n",
              "      <th>quantity</th>\n",
              "      <th>item_name</th>\n",
              "      <th>choice_description</th>\n",
              "      <th>item_price</th>\n",
              "    </tr>\n",
              "  </thead>\n",
              "  <tbody>\n",
              "    <tr>\n",
              "      <th>0</th>\n",
              "      <td>1</td>\n",
              "      <td>1</td>\n",
              "      <td>Chips and Fresh Tomato Salsa</td>\n",
              "      <td>NaN</td>\n",
              "      <td>$2.39</td>\n",
              "    </tr>\n",
              "    <tr>\n",
              "      <th>1</th>\n",
              "      <td>1</td>\n",
              "      <td>1</td>\n",
              "      <td>Izze</td>\n",
              "      <td>[Clementine]</td>\n",
              "      <td>$3.39</td>\n",
              "    </tr>\n",
              "    <tr>\n",
              "      <th>2</th>\n",
              "      <td>1</td>\n",
              "      <td>1</td>\n",
              "      <td>Nantucket Nectar</td>\n",
              "      <td>[Apple]</td>\n",
              "      <td>$3.39</td>\n",
              "    </tr>\n",
              "    <tr>\n",
              "      <th>3</th>\n",
              "      <td>1</td>\n",
              "      <td>1</td>\n",
              "      <td>Chips and Tomatillo-Green Chili Salsa</td>\n",
              "      <td>NaN</td>\n",
              "      <td>$2.39</td>\n",
              "    </tr>\n",
              "    <tr>\n",
              "      <th>4</th>\n",
              "      <td>2</td>\n",
              "      <td>2</td>\n",
              "      <td>Chicken Bowl</td>\n",
              "      <td>[Tomatillo-Red Chili Salsa (Hot), [Black Beans...</td>\n",
              "      <td>$16.98</td>\n",
              "    </tr>\n",
              "    <tr>\n",
              "      <th>5</th>\n",
              "      <td>3</td>\n",
              "      <td>1</td>\n",
              "      <td>Chicken Bowl</td>\n",
              "      <td>[Fresh Tomato Salsa (Mild), [Rice, Cheese, Sou...</td>\n",
              "      <td>$10.98</td>\n",
              "    </tr>\n",
              "    <tr>\n",
              "      <th>6</th>\n",
              "      <td>3</td>\n",
              "      <td>1</td>\n",
              "      <td>Side of Chips</td>\n",
              "      <td>NaN</td>\n",
              "      <td>$1.69</td>\n",
              "    </tr>\n",
              "    <tr>\n",
              "      <th>7</th>\n",
              "      <td>4</td>\n",
              "      <td>1</td>\n",
              "      <td>Steak Burrito</td>\n",
              "      <td>[Tomatillo Red Chili Salsa, [Fajita Vegetables...</td>\n",
              "      <td>$11.75</td>\n",
              "    </tr>\n",
              "    <tr>\n",
              "      <th>8</th>\n",
              "      <td>4</td>\n",
              "      <td>1</td>\n",
              "      <td>Steak Soft Tacos</td>\n",
              "      <td>[Tomatillo Green Chili Salsa, [Pinto Beans, Ch...</td>\n",
              "      <td>$9.25</td>\n",
              "    </tr>\n",
              "    <tr>\n",
              "      <th>9</th>\n",
              "      <td>5</td>\n",
              "      <td>1</td>\n",
              "      <td>Steak Burrito</td>\n",
              "      <td>[Fresh Tomato Salsa, [Rice, Black Beans, Pinto...</td>\n",
              "      <td>$9.25</td>\n",
              "    </tr>\n",
              "    <tr>\n",
              "      <th>10</th>\n",
              "      <td>5</td>\n",
              "      <td>1</td>\n",
              "      <td>Chips and Guacamole</td>\n",
              "      <td>NaN</td>\n",
              "      <td>$4.45</td>\n",
              "    </tr>\n",
              "    <tr>\n",
              "      <th>11</th>\n",
              "      <td>6</td>\n",
              "      <td>1</td>\n",
              "      <td>Chicken Crispy Tacos</td>\n",
              "      <td>[Roasted Chili Corn Salsa, [Fajita Vegetables,...</td>\n",
              "      <td>$8.75</td>\n",
              "    </tr>\n",
              "    <tr>\n",
              "      <th>12</th>\n",
              "      <td>6</td>\n",
              "      <td>1</td>\n",
              "      <td>Chicken Soft Tacos</td>\n",
              "      <td>[Roasted Chili Corn Salsa, [Rice, Black Beans,...</td>\n",
              "      <td>$8.75</td>\n",
              "    </tr>\n",
              "    <tr>\n",
              "      <th>13</th>\n",
              "      <td>7</td>\n",
              "      <td>1</td>\n",
              "      <td>Chicken Bowl</td>\n",
              "      <td>[Fresh Tomato Salsa, [Fajita Vegetables, Rice,...</td>\n",
              "      <td>$11.25</td>\n",
              "    </tr>\n",
              "    <tr>\n",
              "      <th>14</th>\n",
              "      <td>7</td>\n",
              "      <td>1</td>\n",
              "      <td>Chips and Guacamole</td>\n",
              "      <td>NaN</td>\n",
              "      <td>$4.45</td>\n",
              "    </tr>\n",
              "    <tr>\n",
              "      <th>15</th>\n",
              "      <td>8</td>\n",
              "      <td>1</td>\n",
              "      <td>Chips and Tomatillo-Green Chili Salsa</td>\n",
              "      <td>NaN</td>\n",
              "      <td>$2.39</td>\n",
              "    </tr>\n",
              "    <tr>\n",
              "      <th>16</th>\n",
              "      <td>8</td>\n",
              "      <td>1</td>\n",
              "      <td>Chicken Burrito</td>\n",
              "      <td>[Tomatillo-Green Chili Salsa (Medium), [Pinto ...</td>\n",
              "      <td>$8.49</td>\n",
              "    </tr>\n",
              "    <tr>\n",
              "      <th>17</th>\n",
              "      <td>9</td>\n",
              "      <td>1</td>\n",
              "      <td>Chicken Burrito</td>\n",
              "      <td>[Fresh Tomato Salsa (Mild), [Black Beans, Rice...</td>\n",
              "      <td>$8.49</td>\n",
              "    </tr>\n",
              "    <tr>\n",
              "      <th>18</th>\n",
              "      <td>9</td>\n",
              "      <td>2</td>\n",
              "      <td>Canned Soda</td>\n",
              "      <td>[Sprite]</td>\n",
              "      <td>$2.18</td>\n",
              "    </tr>\n",
              "    <tr>\n",
              "      <th>19</th>\n",
              "      <td>10</td>\n",
              "      <td>1</td>\n",
              "      <td>Chicken Bowl</td>\n",
              "      <td>[Tomatillo Red Chili Salsa, [Fajita Vegetables...</td>\n",
              "      <td>$8.75</td>\n",
              "    </tr>\n",
              "  </tbody>\n",
              "</table>\n",
              "</div>\n",
              "    <div class=\"colab-df-buttons\">\n",
              "\n",
              "  <div class=\"colab-df-container\">\n",
              "    <button class=\"colab-df-convert\" onclick=\"convertToInteractive('df-fba236a9-3ba7-4fe3-b711-bd4a4d63e1b9')\"\n",
              "            title=\"Convert this dataframe to an interactive table.\"\n",
              "            style=\"display:none;\">\n",
              "\n",
              "  <svg xmlns=\"http://www.w3.org/2000/svg\" height=\"24px\" viewBox=\"0 -960 960 960\">\n",
              "    <path d=\"M120-120v-720h720v720H120Zm60-500h600v-160H180v160Zm220 220h160v-160H400v160Zm0 220h160v-160H400v160ZM180-400h160v-160H180v160Zm440 0h160v-160H620v160ZM180-180h160v-160H180v160Zm440 0h160v-160H620v160Z\"/>\n",
              "  </svg>\n",
              "    </button>\n",
              "\n",
              "  <style>\n",
              "    .colab-df-container {\n",
              "      display:flex;\n",
              "      gap: 12px;\n",
              "    }\n",
              "\n",
              "    .colab-df-convert {\n",
              "      background-color: #E8F0FE;\n",
              "      border: none;\n",
              "      border-radius: 50%;\n",
              "      cursor: pointer;\n",
              "      display: none;\n",
              "      fill: #1967D2;\n",
              "      height: 32px;\n",
              "      padding: 0 0 0 0;\n",
              "      width: 32px;\n",
              "    }\n",
              "\n",
              "    .colab-df-convert:hover {\n",
              "      background-color: #E2EBFA;\n",
              "      box-shadow: 0px 1px 2px rgba(60, 64, 67, 0.3), 0px 1px 3px 1px rgba(60, 64, 67, 0.15);\n",
              "      fill: #174EA6;\n",
              "    }\n",
              "\n",
              "    .colab-df-buttons div {\n",
              "      margin-bottom: 4px;\n",
              "    }\n",
              "\n",
              "    [theme=dark] .colab-df-convert {\n",
              "      background-color: #3B4455;\n",
              "      fill: #D2E3FC;\n",
              "    }\n",
              "\n",
              "    [theme=dark] .colab-df-convert:hover {\n",
              "      background-color: #434B5C;\n",
              "      box-shadow: 0px 1px 3px 1px rgba(0, 0, 0, 0.15);\n",
              "      filter: drop-shadow(0px 1px 2px rgba(0, 0, 0, 0.3));\n",
              "      fill: #FFFFFF;\n",
              "    }\n",
              "  </style>\n",
              "\n",
              "    <script>\n",
              "      const buttonEl =\n",
              "        document.querySelector('#df-fba236a9-3ba7-4fe3-b711-bd4a4d63e1b9 button.colab-df-convert');\n",
              "      buttonEl.style.display =\n",
              "        google.colab.kernel.accessAllowed ? 'block' : 'none';\n",
              "\n",
              "      async function convertToInteractive(key) {\n",
              "        const element = document.querySelector('#df-fba236a9-3ba7-4fe3-b711-bd4a4d63e1b9');\n",
              "        const dataTable =\n",
              "          await google.colab.kernel.invokeFunction('convertToInteractive',\n",
              "                                                    [key], {});\n",
              "        if (!dataTable) return;\n",
              "\n",
              "        const docLinkHtml = 'Like what you see? Visit the ' +\n",
              "          '<a target=\"_blank\" href=https://colab.research.google.com/notebooks/data_table.ipynb>data table notebook</a>'\n",
              "          + ' to learn more about interactive tables.';\n",
              "        element.innerHTML = '';\n",
              "        dataTable['output_type'] = 'display_data';\n",
              "        await google.colab.output.renderOutput(dataTable, element);\n",
              "        const docLink = document.createElement('div');\n",
              "        docLink.innerHTML = docLinkHtml;\n",
              "        element.appendChild(docLink);\n",
              "      }\n",
              "    </script>\n",
              "  </div>\n",
              "\n",
              "\n",
              "<div id=\"df-4a2fc806-7189-4cd0-9e58-ca1948d68e01\">\n",
              "  <button class=\"colab-df-quickchart\" onclick=\"quickchart('df-4a2fc806-7189-4cd0-9e58-ca1948d68e01')\"\n",
              "            title=\"Suggest charts\"\n",
              "            style=\"display:none;\">\n",
              "\n",
              "<svg xmlns=\"http://www.w3.org/2000/svg\" height=\"24px\"viewBox=\"0 0 24 24\"\n",
              "     width=\"24px\">\n",
              "    <g>\n",
              "        <path d=\"M19 3H5c-1.1 0-2 .9-2 2v14c0 1.1.9 2 2 2h14c1.1 0 2-.9 2-2V5c0-1.1-.9-2-2-2zM9 17H7v-7h2v7zm4 0h-2V7h2v10zm4 0h-2v-4h2v4z\"/>\n",
              "    </g>\n",
              "</svg>\n",
              "  </button>\n",
              "\n",
              "<style>\n",
              "  .colab-df-quickchart {\n",
              "      --bg-color: #E8F0FE;\n",
              "      --fill-color: #1967D2;\n",
              "      --hover-bg-color: #E2EBFA;\n",
              "      --hover-fill-color: #174EA6;\n",
              "      --disabled-fill-color: #AAA;\n",
              "      --disabled-bg-color: #DDD;\n",
              "  }\n",
              "\n",
              "  [theme=dark] .colab-df-quickchart {\n",
              "      --bg-color: #3B4455;\n",
              "      --fill-color: #D2E3FC;\n",
              "      --hover-bg-color: #434B5C;\n",
              "      --hover-fill-color: #FFFFFF;\n",
              "      --disabled-bg-color: #3B4455;\n",
              "      --disabled-fill-color: #666;\n",
              "  }\n",
              "\n",
              "  .colab-df-quickchart {\n",
              "    background-color: var(--bg-color);\n",
              "    border: none;\n",
              "    border-radius: 50%;\n",
              "    cursor: pointer;\n",
              "    display: none;\n",
              "    fill: var(--fill-color);\n",
              "    height: 32px;\n",
              "    padding: 0;\n",
              "    width: 32px;\n",
              "  }\n",
              "\n",
              "  .colab-df-quickchart:hover {\n",
              "    background-color: var(--hover-bg-color);\n",
              "    box-shadow: 0 1px 2px rgba(60, 64, 67, 0.3), 0 1px 3px 1px rgba(60, 64, 67, 0.15);\n",
              "    fill: var(--button-hover-fill-color);\n",
              "  }\n",
              "\n",
              "  .colab-df-quickchart-complete:disabled,\n",
              "  .colab-df-quickchart-complete:disabled:hover {\n",
              "    background-color: var(--disabled-bg-color);\n",
              "    fill: var(--disabled-fill-color);\n",
              "    box-shadow: none;\n",
              "  }\n",
              "\n",
              "  .colab-df-spinner {\n",
              "    border: 2px solid var(--fill-color);\n",
              "    border-color: transparent;\n",
              "    border-bottom-color: var(--fill-color);\n",
              "    animation:\n",
              "      spin 1s steps(1) infinite;\n",
              "  }\n",
              "\n",
              "  @keyframes spin {\n",
              "    0% {\n",
              "      border-color: transparent;\n",
              "      border-bottom-color: var(--fill-color);\n",
              "      border-left-color: var(--fill-color);\n",
              "    }\n",
              "    20% {\n",
              "      border-color: transparent;\n",
              "      border-left-color: var(--fill-color);\n",
              "      border-top-color: var(--fill-color);\n",
              "    }\n",
              "    30% {\n",
              "      border-color: transparent;\n",
              "      border-left-color: var(--fill-color);\n",
              "      border-top-color: var(--fill-color);\n",
              "      border-right-color: var(--fill-color);\n",
              "    }\n",
              "    40% {\n",
              "      border-color: transparent;\n",
              "      border-right-color: var(--fill-color);\n",
              "      border-top-color: var(--fill-color);\n",
              "    }\n",
              "    60% {\n",
              "      border-color: transparent;\n",
              "      border-right-color: var(--fill-color);\n",
              "    }\n",
              "    80% {\n",
              "      border-color: transparent;\n",
              "      border-right-color: var(--fill-color);\n",
              "      border-bottom-color: var(--fill-color);\n",
              "    }\n",
              "    90% {\n",
              "      border-color: transparent;\n",
              "      border-bottom-color: var(--fill-color);\n",
              "    }\n",
              "  }\n",
              "</style>\n",
              "\n",
              "  <script>\n",
              "    async function quickchart(key) {\n",
              "      const quickchartButtonEl =\n",
              "        document.querySelector('#' + key + ' button');\n",
              "      quickchartButtonEl.disabled = true;  // To prevent multiple clicks.\n",
              "      quickchartButtonEl.classList.add('colab-df-spinner');\n",
              "      try {\n",
              "        const charts = await google.colab.kernel.invokeFunction(\n",
              "            'suggestCharts', [key], {});\n",
              "      } catch (error) {\n",
              "        console.error('Error during call to suggestCharts:', error);\n",
              "      }\n",
              "      quickchartButtonEl.classList.remove('colab-df-spinner');\n",
              "      quickchartButtonEl.classList.add('colab-df-quickchart-complete');\n",
              "    }\n",
              "    (() => {\n",
              "      let quickchartButtonEl =\n",
              "        document.querySelector('#df-4a2fc806-7189-4cd0-9e58-ca1948d68e01 button');\n",
              "      quickchartButtonEl.style.display =\n",
              "        google.colab.kernel.accessAllowed ? 'block' : 'none';\n",
              "    })();\n",
              "  </script>\n",
              "</div>\n",
              "\n",
              "    </div>\n",
              "  </div>\n"
            ],
            "application/vnd.google.colaboratory.intrinsic+json": {
              "type": "dataframe",
              "variable_name": "chipo",
              "summary": "{\n  \"name\": \"chipo\",\n  \"rows\": 4622,\n  \"fields\": [\n    {\n      \"column\": \"order_id\",\n      \"properties\": {\n        \"dtype\": \"number\",\n        \"std\": 528,\n        \"min\": 1,\n        \"max\": 1834,\n        \"num_unique_values\": 1834,\n        \"samples\": [\n          644,\n          333,\n          991\n        ],\n        \"semantic_type\": \"\",\n        \"description\": \"\"\n      }\n    },\n    {\n      \"column\": \"quantity\",\n      \"properties\": {\n        \"dtype\": \"number\",\n        \"std\": 0,\n        \"min\": 1,\n        \"max\": 15,\n        \"num_unique_values\": 9,\n        \"samples\": [\n          8,\n          2,\n          15\n        ],\n        \"semantic_type\": \"\",\n        \"description\": \"\"\n      }\n    },\n    {\n      \"column\": \"item_name\",\n      \"properties\": {\n        \"dtype\": \"category\",\n        \"num_unique_values\": 50,\n        \"samples\": [\n          \"Barbacoa Burrito\",\n          \"Crispy Tacos\",\n          \"Chips and Roasted Chili Corn Salsa\"\n        ],\n        \"semantic_type\": \"\",\n        \"description\": \"\"\n      }\n    },\n    {\n      \"column\": \"choice_description\",\n      \"properties\": {\n        \"dtype\": \"category\",\n        \"num_unique_values\": 1043,\n        \"samples\": [\n          \"[Roasted Chili Corn Salsa, [Black Beans, Sour Cream, Cheese, Guacamole]]\",\n          \"[Tomatillo Red Chili Salsa, [Guacamole, Cheese]]\",\n          \"[Fresh Tomato Salsa, [Rice, Cheese, Sour Cream, Guacamole, Lettuce]]\"\n        ],\n        \"semantic_type\": \"\",\n        \"description\": \"\"\n      }\n    },\n    {\n      \"column\": \"item_price\",\n      \"properties\": {\n        \"dtype\": \"category\",\n        \"num_unique_values\": 78,\n        \"samples\": [\n          \"$23.50 \",\n          \"$2.39 \",\n          \"$7.40 \"\n        ],\n        \"semantic_type\": \"\",\n        \"description\": \"\"\n      }\n    }\n  ]\n}"
            }
          },
          "metadata": {},
          "execution_count": 6
        }
      ],
      "source": [
        "chipo.head(20)"
      ]
    },
    {
      "cell_type": "markdown",
      "metadata": {
        "id": "lYqPxFM2ZaKV"
      },
      "source": [
        "### What is the number of observations in the dataset?"
      ]
    },
    {
      "cell_type": "code",
      "execution_count": 7,
      "metadata": {
        "id": "5WAbyCVnZaKV",
        "colab": {
          "base_uri": "https://localhost:8080/"
        },
        "outputId": "74eb6e86-480d-4285-fc10-d279506aad7c"
      },
      "outputs": [
        {
          "output_type": "execute_result",
          "data": {
            "text/plain": [
              "4622"
            ]
          },
          "metadata": {},
          "execution_count": 7
        }
      ],
      "source": [
        "\n",
        "chipo.shape[0]"
      ]
    },
    {
      "cell_type": "markdown",
      "metadata": {
        "id": "1VdaeFMUZaKV"
      },
      "source": [
        "### What is the number of columns in the dataset? Names of the columns in the dataset?"
      ]
    },
    {
      "cell_type": "code",
      "execution_count": 8,
      "metadata": {
        "id": "orR19Dd1ZaKV",
        "colab": {
          "base_uri": "https://localhost:8080/"
        },
        "outputId": "33f7d634-85a8-44cd-a8bc-c32c52a2f045"
      },
      "outputs": [
        {
          "output_type": "stream",
          "name": "stdout",
          "text": [
            "Index(['order_id', 'quantity', 'item_name', 'choice_description',\n",
            "       'item_price'],\n",
            "      dtype='object')\n"
          ]
        },
        {
          "output_type": "execute_result",
          "data": {
            "text/plain": [
              "5"
            ]
          },
          "metadata": {},
          "execution_count": 8
        }
      ],
      "source": [
        "print(chipo.columns)\n",
        "len(chipo.columns)\n",
        "chipo.shape[1]"
      ]
    },
    {
      "cell_type": "markdown",
      "metadata": {
        "id": "Piuenk9EZaKW"
      },
      "source": [
        "### What was the most-ordered item? In how much quantity in total was it ordered?\n",
        "\n"
      ]
    },
    {
      "cell_type": "code",
      "execution_count": 9,
      "metadata": {
        "id": "a6RlAJySZaKX",
        "colab": {
          "base_uri": "https://localhost:8080/",
          "height": 112
        },
        "outputId": "60e3238a-a687-424f-f78d-89aa9f520ff6"
      },
      "outputs": [
        {
          "output_type": "execute_result",
          "data": {
            "text/plain": [
              "              order_id  quantity  \\\n",
              "item_name                          \n",
              "Chicken Bowl    713926       761   \n",
              "\n",
              "                                             choice_description  \\\n",
              "item_name                                                         \n",
              "Chicken Bowl  [Tomatillo-Red Chili Salsa (Hot), [Black Beans...   \n",
              "\n",
              "                                                     item_price  \n",
              "item_name                                                        \n",
              "Chicken Bowl  $16.98 $10.98 $11.25 $8.75 $8.49 $11.25 $8.75 ...  "
            ],
            "text/html": [
              "\n",
              "  <div id=\"df-553f63d6-cdd6-4b48-a62d-14d3db1b84bc\" class=\"colab-df-container\">\n",
              "    <div>\n",
              "<style scoped>\n",
              "    .dataframe tbody tr th:only-of-type {\n",
              "        vertical-align: middle;\n",
              "    }\n",
              "\n",
              "    .dataframe tbody tr th {\n",
              "        vertical-align: top;\n",
              "    }\n",
              "\n",
              "    .dataframe thead th {\n",
              "        text-align: right;\n",
              "    }\n",
              "</style>\n",
              "<table border=\"1\" class=\"dataframe\">\n",
              "  <thead>\n",
              "    <tr style=\"text-align: right;\">\n",
              "      <th></th>\n",
              "      <th>order_id</th>\n",
              "      <th>quantity</th>\n",
              "      <th>choice_description</th>\n",
              "      <th>item_price</th>\n",
              "    </tr>\n",
              "    <tr>\n",
              "      <th>item_name</th>\n",
              "      <th></th>\n",
              "      <th></th>\n",
              "      <th></th>\n",
              "      <th></th>\n",
              "    </tr>\n",
              "  </thead>\n",
              "  <tbody>\n",
              "    <tr>\n",
              "      <th>Chicken Bowl</th>\n",
              "      <td>713926</td>\n",
              "      <td>761</td>\n",
              "      <td>[Tomatillo-Red Chili Salsa (Hot), [Black Beans...</td>\n",
              "      <td>$16.98 $10.98 $11.25 $8.75 $8.49 $11.25 $8.75 ...</td>\n",
              "    </tr>\n",
              "  </tbody>\n",
              "</table>\n",
              "</div>\n",
              "    <div class=\"colab-df-buttons\">\n",
              "\n",
              "  <div class=\"colab-df-container\">\n",
              "    <button class=\"colab-df-convert\" onclick=\"convertToInteractive('df-553f63d6-cdd6-4b48-a62d-14d3db1b84bc')\"\n",
              "            title=\"Convert this dataframe to an interactive table.\"\n",
              "            style=\"display:none;\">\n",
              "\n",
              "  <svg xmlns=\"http://www.w3.org/2000/svg\" height=\"24px\" viewBox=\"0 -960 960 960\">\n",
              "    <path d=\"M120-120v-720h720v720H120Zm60-500h600v-160H180v160Zm220 220h160v-160H400v160Zm0 220h160v-160H400v160ZM180-400h160v-160H180v160Zm440 0h160v-160H620v160ZM180-180h160v-160H180v160Zm440 0h160v-160H620v160Z\"/>\n",
              "  </svg>\n",
              "    </button>\n",
              "\n",
              "  <style>\n",
              "    .colab-df-container {\n",
              "      display:flex;\n",
              "      gap: 12px;\n",
              "    }\n",
              "\n",
              "    .colab-df-convert {\n",
              "      background-color: #E8F0FE;\n",
              "      border: none;\n",
              "      border-radius: 50%;\n",
              "      cursor: pointer;\n",
              "      display: none;\n",
              "      fill: #1967D2;\n",
              "      height: 32px;\n",
              "      padding: 0 0 0 0;\n",
              "      width: 32px;\n",
              "    }\n",
              "\n",
              "    .colab-df-convert:hover {\n",
              "      background-color: #E2EBFA;\n",
              "      box-shadow: 0px 1px 2px rgba(60, 64, 67, 0.3), 0px 1px 3px 1px rgba(60, 64, 67, 0.15);\n",
              "      fill: #174EA6;\n",
              "    }\n",
              "\n",
              "    .colab-df-buttons div {\n",
              "      margin-bottom: 4px;\n",
              "    }\n",
              "\n",
              "    [theme=dark] .colab-df-convert {\n",
              "      background-color: #3B4455;\n",
              "      fill: #D2E3FC;\n",
              "    }\n",
              "\n",
              "    [theme=dark] .colab-df-convert:hover {\n",
              "      background-color: #434B5C;\n",
              "      box-shadow: 0px 1px 3px 1px rgba(0, 0, 0, 0.15);\n",
              "      filter: drop-shadow(0px 1px 2px rgba(0, 0, 0, 0.3));\n",
              "      fill: #FFFFFF;\n",
              "    }\n",
              "  </style>\n",
              "\n",
              "    <script>\n",
              "      const buttonEl =\n",
              "        document.querySelector('#df-553f63d6-cdd6-4b48-a62d-14d3db1b84bc button.colab-df-convert');\n",
              "      buttonEl.style.display =\n",
              "        google.colab.kernel.accessAllowed ? 'block' : 'none';\n",
              "\n",
              "      async function convertToInteractive(key) {\n",
              "        const element = document.querySelector('#df-553f63d6-cdd6-4b48-a62d-14d3db1b84bc');\n",
              "        const dataTable =\n",
              "          await google.colab.kernel.invokeFunction('convertToInteractive',\n",
              "                                                    [key], {});\n",
              "        if (!dataTable) return;\n",
              "\n",
              "        const docLinkHtml = 'Like what you see? Visit the ' +\n",
              "          '<a target=\"_blank\" href=https://colab.research.google.com/notebooks/data_table.ipynb>data table notebook</a>'\n",
              "          + ' to learn more about interactive tables.';\n",
              "        element.innerHTML = '';\n",
              "        dataTable['output_type'] = 'display_data';\n",
              "        await google.colab.output.renderOutput(dataTable, element);\n",
              "        const docLink = document.createElement('div');\n",
              "        docLink.innerHTML = docLinkHtml;\n",
              "        element.appendChild(docLink);\n",
              "      }\n",
              "    </script>\n",
              "  </div>\n",
              "\n",
              "\n",
              "    </div>\n",
              "  </div>\n"
            ],
            "application/vnd.google.colaboratory.intrinsic+json": {
              "type": "dataframe",
              "summary": "{\n  \"name\": \"chipo\",\n  \"rows\": 1,\n  \"fields\": [\n    {\n      \"column\": \"item_name\",\n      \"properties\": {\n        \"dtype\": \"string\",\n        \"num_unique_values\": 1,\n        \"samples\": [\n          \"Chicken Bowl\"\n        ],\n        \"semantic_type\": \"\",\n        \"description\": \"\"\n      }\n    },\n    {\n      \"column\": \"order_id\",\n      \"properties\": {\n        \"dtype\": \"number\",\n        \"std\": null,\n        \"min\": 713926,\n        \"max\": 713926,\n        \"num_unique_values\": 1,\n        \"samples\": [\n          713926\n        ],\n        \"semantic_type\": \"\",\n        \"description\": \"\"\n      }\n    },\n    {\n      \"column\": \"quantity\",\n      \"properties\": {\n        \"dtype\": \"number\",\n        \"std\": null,\n        \"min\": 761,\n        \"max\": 761,\n        \"num_unique_values\": 1,\n        \"samples\": [\n          761\n        ],\n        \"semantic_type\": \"\",\n        \"description\": \"\"\n      }\n    },\n    {\n      \"column\": \"choice_description\",\n      \"properties\": {\n        \"dtype\": \"string\",\n        \"num_unique_values\": 1,\n        \"samples\": [\n          \"[Tomatillo-Red Chili Salsa (Hot), [Black Beans, Rice, Cheese, Sour Cream]][Fresh Tomato Salsa (Mild), [Rice, Cheese, Sour Cream, Guacamole, Lettuce]][Fresh Tomato Salsa, [Fajita Vegetables, Rice, Cheese, Sour Cream, Guacamole]][Tomatillo Red Chili Salsa, [Fajita Vegetables, Black Beans, Sour Cream, Cheese, Lettuce]][Roasted Chili Corn Salsa (Medium), [Pinto Beans, Rice, Fajita Veggies, Cheese, Sour Cream, Lettuce]][Roasted Chili Corn Salsa, [Rice, Black Beans, Cheese, Sour Cream, Guacamole, Lettuce]][Fresh Tomato Salsa, [Rice, Black Beans, Pinto Beans, Cheese, Lettuce]][Fresh Tomato Salsa, [Rice, Black Beans, Cheese, Sour Cream, Lettuce]][Tomatillo Red Chili Salsa, [Rice, Fajita Vegetables, Sour Cream, Lettuce]][Tomatillo Red Chili Salsa, [Rice, Black Beans, Cheese, Sour Cream, Lettuce]][Fresh Tomato Salsa, [Guacamole, Cheese, Sour Cream, Fajita Vegetables, Rice]][Fresh Tomato Salsa, [Rice, Fajita Vegetables, Sour Cream, Cheese, Guacamole]][Tomatillo Green Chili Salsa, [Rice, Sour Cream, Cheese, Guacamole]][Fresh Tomato Salsa, [Fajita Vegetables, Rice, Black Beans, Cheese, Guacamole, Lettuce]][Fresh Tomato Salsa, [Fajita Vegetables, Rice, Lettuce]][Fresh Tomato Salsa (Mild), [Black Beans, Rice, Fajita Veggies, Cheese, Sour Cream, Lettuce]][Roasted Chili Corn Salsa (Medium), [Black Beans, Rice, Fajita Veggies, Cheese, Sour Cream, Guacamole, Lettuce]][Fresh Tomato Salsa, [Rice, Black Beans, Sour Cream]][Fresh Tomato Salsa, [Rice, Cheese, Sour Cream]][[Roasted Chili Corn Salsa (Medium), Tomatillo-Red Chili Salsa (Hot)], [Black Beans, Rice, Fajita Veggies, Guacamole, Lettuce]][Fresh Tomato Salsa, [Rice, Cheese, Lettuce]][Roasted Chili Corn Salsa, [Fajita Vegetables, Rice, Black Beans, Cheese, Sour Cream, Guacamole, Lettuce]][Roasted Chili Corn Salsa, [Fajita Vegetables, Rice, Black Beans, Pinto Beans, Cheese, Sour Cream, Guacamole, Lettuce]][Tomatillo Green Chili Salsa, [Rice, Black Beans, Cheese, Sour Cream]][Roasted Chili Corn Salsa, [Rice, Black Beans, Cheese, Sour Cream]][Tomatillo Green Chili Salsa, [Rice, Pinto Beans, Sour Cream, Lettuce]][Fresh Tomato Salsa, [Fajita Vegetables, Rice, Black Beans, Cheese, Sour Cream, Lettuce]][Tomatillo Red Chili Salsa, [Rice, Cheese, Lettuce]][Fresh Tomato Salsa, [Rice, Black Beans, Cheese]][Fresh Tomato Salsa, [Rice, Black Beans, Cheese, Sour Cream]][Fresh Tomato Salsa, [Rice, Cheese, Sour Cream]][Roasted Chili Corn Salsa, [Fajita Vegetables, Rice, Black Beans, Guacamole, Lettuce]][Tomatillo Green Chili Salsa, [Rice, Sour Cream, Guacamole, Lettuce]][Fresh Tomato Salsa (Mild), [Rice, Fajita Veggies, Cheese, Sour Cream, Lettuce]][Fresh Tomato Salsa, [Rice, Black Beans, Cheese, Sour Cream, Guacamole, Lettuce]][Fresh Tomato Salsa, [Rice, Black Beans, Cheese, Sour Cream, Lettuce]][Fresh Tomato Salsa, [Rice, Black Beans, Cheese, Sour Cream]][Fresh Tomato Salsa, [Fajita Vegetables, Rice, Black Beans, Sour Cream]][Tomatillo Red Chili Salsa, [Rice, Cheese]][Tomatillo-Red Chili Salsa (Hot), [Rice, Fajita Veggies, Cheese, Sour Cream, Lettuce]][Fresh Tomato Salsa, [Rice, Cheese, Sour Cream]][Fresh Tomato Salsa, [Rice, Black Beans, Cheese, Sour Cream, Guacamole]][Tomatillo Red Chili Salsa, [Rice, Black Beans, Cheese, Sour Cream, Guacamole, Lettuce]][[Fresh Tomato Salsa (Mild), Tomatillo-Green Chili Salsa (Medium), Roasted Chili Corn Salsa (Medium)], [Black Beans, Rice, Fajita Veggies, Cheese, Guacamole, Lettuce]][Tomatillo Green Chili Salsa, [Sour Cream, Cheese, Guacamole]][Tomatillo Red Chili Salsa][Roasted Chili Corn Salsa, [Rice, Lettuce]][Fresh Tomato Salsa, [Rice, Black Beans, Cheese, Lettuce]][Fresh Tomato Salsa, [Rice, Black Beans, Cheese, Sour Cream, Guacamole, Lettuce]][Fresh Tomato Salsa, [Rice, Black Beans, Cheese]][Fresh Tomato Salsa (Mild), [Black Beans, Rice, Fajita Veggies, Cheese, Sour Cream, Lettuce]][Tomatillo Green Chili Salsa, [Rice, Black Beans, Cheese]][Roasted Chili Corn Salsa, [Rice, Fajita Vegetables, Black Beans, Sour Cream, Cheese, Lettuce]][Fresh Tomato Salsa, [Fajita Vegetables, Rice, Black Beans, Cheese]][Fresh Tomato Salsa, [Rice, Black Beans, Cheese, Sour Cream, Guacamole, Lettuce]][Fresh Tomato Salsa, [Fajita Vegetables, Rice, Black Beans, Cheese]][Fresh Tomato Salsa, [Rice, Black Beans, Cheese, Sour Cream, Lettuce]][Fresh Tomato Salsa, [Fajita Vegetables, Rice, Cheese, Sour Cream, Guacamole]][Roasted Chili Corn Salsa, [Fajita Vegetables, Rice, Black Beans, Guacamole]][Tomatillo-Red Chili Salsa (Hot), Rice][Fresh Tomato Salsa, [Rice, Black Beans, Sour Cream, Cheese]][Fresh Tomato Salsa, [Rice, Cheese, Lettuce]][Tomatillo Green Chili Salsa, [Rice, Black Beans, Cheese]][Roasted Chili Corn Salsa, [Rice, Pinto Beans, Lettuce, Guacamole]][Roasted Chili Corn Salsa (Medium), [Black Beans, Fajita Veggies, Cheese, Guacamole, Lettuce]][Fresh Tomato Salsa, [Rice, Cheese, Lettuce]][Roasted Chili Corn Salsa, [Rice, Black Beans, Cheese, Sour Cream, Guacamole, Lettuce]][Fresh Tomato Salsa (Mild), [Rice, Cheese, Sour Cream, Lettuce]][Fresh Tomato Salsa, [Rice, Pinto Beans, Sour Cream, Cheese, Lettuce]][Tomatillo Green Chili Salsa, [Rice, Black Beans, Sour Cream, Lettuce]][Roasted Chili Corn Salsa, [Rice, Cheese, Lettuce]][Fresh Tomato Salsa, [Rice, Pinto Beans, Cheese, Sour Cream, Lettuce]][Tomatillo-Red Chili Salsa (Hot), [Black Beans, Rice, Fajita Veggies, Cheese, Lettuce]][Fresh Tomato Salsa, [Fajita Vegetables, Rice, Lettuce]][Tomatillo-Red Chili Salsa (Hot), [Black Beans, Rice, Cheese, Sour Cream, Lettuce]][Fresh Tomato Salsa, [Rice, Black Beans, Cheese, Sour Cream, Guacamole, Lettuce]][Fresh Tomato Salsa, [Fajita Vegetables, Rice, Cheese, Sour Cream, Guacamole]][Tomatillo Green Chili Salsa, [Rice, Sour Cream, Cheese, Guacamole]][Tomatillo Green Chili Salsa, [Fajita Vegetables, Rice, Black Beans, Cheese, Sour Cream, Guacamole, Lettuce]][Roasted Chili Corn Salsa, [Rice, Black Beans, Cheese, Sour Cream, Lettuce]][Fresh Tomato Salsa, [Rice, Black Beans, Sour Cream, Cheese]][Roasted Chili Corn Salsa, [Fajita Vegetables, Rice, Black Beans, Cheese, Sour Cream, Guacamole, Lettuce]][Tomatillo-Green Chili Salsa (Medium), Black Beans][Tomatillo-Green Chili Salsa (Medium), Black Beans][Fresh Tomato Salsa, [Rice, Black Beans, Cheese, Sour Cream, Lettuce]][Roasted Chili Corn Salsa, [Fajita Vegetables, Rice, Black Beans, Cheese, Lettuce]][Tomatillo Red Chili Salsa, [Fajita Vegetables, Rice, Black Beans, Cheese, Sour Cream, Lettuce]][[Fresh Tomato Salsa (Mild), Roasted Chili Corn Salsa (Medium)], [Rice, Sour Cream, Guacamole, Lettuce]][Tomatillo Red Chili Salsa, [Rice, Fajita Vegetables, Black Beans, Sour Cream, Cheese]][Tomatillo Red Chili Salsa, [Rice, Cheese, Sour Cream, Lettuce]][[Roasted Chili Corn Salsa (Medium), Fresh Tomato Salsa (Mild)], [Rice, Black Beans, Fajita Veggies, Cheese, Sour Cream, Guacamole]][Tomatillo Red Chili Salsa, [Rice, Black Beans, Cheese, Sour Cream, Lettuce]][Fresh Tomato Salsa, [Rice, Guacamole]][Fresh Tomato Salsa, [Rice, Black Beans, Cheese, Sour Cream, Guacamole]][Tomatillo Green Chili Salsa, [Rice, Pinto Beans, Sour Cream, Lettuce]][Tomatillo Red Chili Salsa, [Rice, Sour Cream, Cheese, Guacamole]][Roasted Chili Corn Salsa, [Fajita Vegetables, Pinto Beans, Sour Cream, Guacamole]][Tomatillo Green Chili Salsa, [Rice, Cheese, Sour Cream, Lettuce]][Tomatillo-Red Chili Salsa (Hot), [Pinto Beans, Rice, Fajita Veggies, Cheese, Sour Cream, Lettuce]][Fresh Tomato Salsa (Mild), [Rice, Fajita Veggies, Sour Cream, Guacamole]][Fresh Tomato Salsa, [Rice, Cheese, Sour Cream]][Roasted Chili Corn Salsa, [Fajita Vegetables, Rice, Cheese, Sour Cream, Guacamole, Lettuce]][Roasted Chili Corn Salsa, [Rice, Cheese, Sour Cream, Lettuce]][Tomatillo Green Chili Salsa, [Rice, Cheese, Sour Cream, Lettuce]][Fresh Tomato Salsa, [Rice, Black Beans, Cheese, Sour Cream]][Fresh Tomato Salsa, [Fajita Vegetables, Rice, Cheese, Sour Cream, Lettuce]][Fresh Tomato Salsa (Mild), [Pinto Beans, Rice, Cheese, Sour Cream, Lettuce]][Tomatillo-Red Chili Salsa (Hot), [Rice, Fajita Veggies, Cheese, Sour Cream, Lettuce]][Fresh Tomato Salsa, [Fajita Vegetables, Rice, Black Beans, Sour Cream]][Roasted Chili Corn Salsa, [Fajita Vegetables, Rice, Black Beans, Cheese, Sour Cream]][Tomatillo Red Chili Salsa, [Rice, Black Beans, Cheese, Lettuce, Guacamole]][Fresh Tomato Salsa, [Fajita Vegetables, Rice, Lettuce]][Fresh Tomato Salsa, [Rice, Black Beans, Cheese, Lettuce]][Fresh Tomato Salsa, [Fajita Vegetables, Rice, Black Beans, Cheese, Sour Cream, Lettuce]][Tomatillo Green Chili Salsa, [Fajita Vegetables, Rice, Black Beans, Cheese, Sour Cream, Lettuce]][Tomatillo Green Chili Salsa, [Rice, Sour Cream, Cheese, Guacamole]][Fresh Tomato Salsa, [Rice, Fajita Vegetables, Pinto Beans, Sour Cream, Cheese, Lettuce, Guacamole]][[Fresh Tomato Salsa (Mild), Tomatillo-Red Chili Salsa (Hot)], [Black Beans, Rice, Cheese, Sour Cream]][Roasted Chili Corn Salsa (Medium), [Black Beans, Rice, Sour Cream, Guacamole]][Roasted Chili Corn Salsa (Medium), [Rice, Cheese]][Roasted Chili Corn Salsa (Medium), [Black Beans, Rice, Cheese, Sour Cream, Lettuce]][Fresh Tomato Salsa, [Rice, Sour Cream, Cheese, Lettuce]][Fresh Tomato Salsa][Fresh Tomato Salsa, [Rice, Cheese, Black Beans]][Fresh Tomato Salsa, [Rice, Cheese, Sour Cream, Lettuce]][Fresh Tomato Salsa, [Rice, Cheese, Sour Cream, Lettuce]][Fresh Tomato Salsa, [Fajita Vegetables, Rice]][[Fresh Tomato Salsa (Mild), Tomatillo-Red Chili Salsa (Hot)], [Black Beans, Rice, Cheese, Sour Cream]][Fresh Tomato Salsa, [Fajita Vegetables, Rice]][[Tomatillo-Green Chili Salsa (Medium), Roasted Chili Corn Salsa (Medium)], [Black Beans, Rice, Cheese, Sour Cream, Lettuce]][Fresh Tomato Salsa, [Fajita Vegetables, Rice, Black Beans, Cheese, Guacamole, Lettuce]][Tomatillo Green Chili Salsa, [Fajita Vegetables, Rice, Cheese, Lettuce]][Fresh Tomato Salsa, [Rice, Fajita Vegetables]][Tomatillo Red Chili Salsa, [Fajita Vegetables, Rice, Black Beans, Cheese, Sour Cream, Guacamole, Lettuce]][Fresh Tomato Salsa, [Fajita Vegetables, Rice, Lettuce]][Fresh Tomato Salsa, [Rice, Black Beans, Cheese]][Fresh Tomato Salsa, [Rice, Cheese, Sour Cream, Lettuce]][Tomatillo Red Chili Salsa, [Rice, Black Beans, Cheese, Sour Cream, Lettuce]][Roasted Chili Corn Salsa, [Rice, Pinto Beans, Cheese, Sour Cream, Guacamole, Lettuce]][Roasted Chili Corn Salsa, [Rice, Cheese, Lettuce]][Fresh Tomato Salsa, [Fajita Vegetables, Rice]][Roasted Chili Corn Salsa, [Fajita Vegetables, Rice, Pinto Beans, Cheese, Sour Cream, Lettuce]][[Roasted Chili Corn Salsa (Medium), Tomatillo-Red Chili Salsa (Hot)], [Pinto Beans, Rice, Fajita Veggies]][Roasted Chili Corn Salsa, [Fajita Vegetables, Rice, Black Beans, Cheese]][Fresh Tomato Salsa, [Fajita Vegetables, Rice, Black Beans, Cheese, Guacamole, Lettuce]][Roasted Chili Corn Salsa, [Rice, Black Beans, Cheese, Guacamole]][Fresh Tomato Salsa, [Rice, Black Beans, Cheese, Sour Cream, Lettuce]][Roasted Chili Corn Salsa, [Rice, Black Beans, Cheese, Sour Cream, Guacamole]][Fresh Tomato Salsa, [Rice, Black Beans, Cheese, Guacamole]][[Fresh Tomato Salsa (Mild), Tomatillo-Red Chili Salsa (Hot)], [Black Beans, Rice, Cheese, Sour Cream, Guacamole]][Tomatillo-Red Chili Salsa (Hot), [Pinto Beans, Rice, Cheese, Sour Cream, Guacamole]][Roasted Chili Corn Salsa, [Rice, Black Beans, Sour Cream, Guacamole]][Tomatillo Green Chili Salsa, [Rice, Cheese, Guacamole, Lettuce]][Fresh Tomato Salsa, [Fajita Vegetables, Rice]][Fresh Tomato Salsa, [Rice, Black Beans]][Fresh Tomato Salsa, [Fajita Vegetables, Rice]][Fresh Tomato Salsa, [Fajita Vegetables, Rice, Cheese, Sour Cream, Guacamole, Lettuce]][Fresh Tomato Salsa (Mild), [Rice, Black Beans, Fajita Veggies, Cheese, Guacamole, Lettuce]][Roasted Chili Corn Salsa, [Rice, Black Beans, Cheese, Sour Cream, Lettuce]][Roasted Chili Corn Salsa, [Fajita Vegetables, Black Beans, Guacamole]][Tomatillo Green Chili Salsa, [Rice, Pinto Beans, Sour Cream, Lettuce]][[Fresh Tomato Salsa (Mild), Tomatillo-Red Chili Salsa (Hot)], [Black Beans, Rice, Cheese, Sour Cream]][Fresh Tomato Salsa (Mild), [Black Beans, Rice, Cheese]][Tomatillo Red Chili Salsa, [Black Beans, Cheese, Sour Cream]][Fresh Tomato Salsa, [Rice, Cheese, Sour Cream, Lettuce]][Fresh Tomato Salsa, [Rice, Fajita Vegetables]][Tomatillo Red Chili Salsa, [Rice, Cheese, Lettuce]][Tomatillo Green Chili Salsa, [Rice, Black Beans, Pinto Beans, Guacamole, Lettuce]][Roasted Chili Corn Salsa, [Rice, Black Beans, Sour Cream]][Tomatillo Red Chili Salsa, [Fajita Vegetables, Rice, Black Beans, Cheese, Sour Cream]][Tomatillo-Green Chili Salsa (Medium), [Fajita Veggies, Cheese, Guacamole, Lettuce]][Roasted Chili Corn Salsa, [Rice, Black Beans, Cheese, Lettuce, Guacamole]][Roasted Chili Corn Salsa (Medium), [Rice, Cheese]][Fresh Tomato Salsa, [Rice, Lettuce]][Roasted Chili Corn Salsa, [Rice, Black Beans, Cheese]][Tomatillo Red Chili Salsa, [Fajita Vegetables, Rice, Cheese, Guacamole]][Fresh Tomato Salsa, [Rice, Sour Cream, Guacamole]][[Fresh Tomato Salsa (Mild), Roasted Chili Corn Salsa (Medium)], [Rice, Fajita Veggies]][Roasted Chili Corn Salsa, [Fajita Vegetables, Rice, Sour Cream, Lettuce]][Fresh Tomato Salsa, [Fajita Vegetables, Rice, Black Beans, Pinto Beans, Cheese, Sour Cream, Guacamole]][[Roasted Chili Corn Salsa (Medium), Tomatillo-Red Chili Salsa (Hot)], [Pinto Beans, Rice, Fajita Veggies, Cheese, Lettuce]][Fresh Tomato Salsa (Mild), [Black Beans, Rice, Sour Cream, Guacamole]][Fresh Tomato Salsa, [Fajita Vegetables, Rice]][Fresh Tomato Salsa, [Rice, Black Beans, Cheese, Sour Cream, Guacamole, Lettuce]][Fresh Tomato Salsa, [Rice, Black Beans, Cheese, Sour Cream, Lettuce]][Fresh Tomato Salsa, [Fajita Vegetables, Pinto Beans, Guacamole, Lettuce]][Fresh Tomato Salsa, [Rice, Cheese, Sour Cream, Lettuce]][Tomatillo Red Chili Salsa, [Fajita Vegetables, Rice, Black Beans, Cheese, Sour Cream]][Fresh Tomato Salsa, [Rice, Black Beans, Cheese]][Fresh Tomato Salsa, [Rice, Black Beans, Cheese, Sour Cream, Lettuce]][Fresh Tomato Salsa, [Sour Cream, Lettuce, Rice, Cheese]][Roasted Chili Corn Salsa, [Rice, Fajita Vegetables, Black Beans, Sour Cream, Cheese, Lettuce]][Roasted Chili Corn Salsa, [Fajita Vegetables, Rice, Black Beans, Pinto Beans, Cheese, Guacamole, Lettuce]][Tomatillo Green Chili Salsa, [Rice, Sour Cream, Cheese, Guacamole]][Fresh Tomato Salsa (Mild), [Black Beans, Rice, Fajita Veggies, Cheese, Sour Cream, Lettuce]][[Fresh Tomato Salsa (Mild), Roasted Chili Corn Salsa (Medium), Tomatillo-Red Chili Salsa (Hot)], [Black Beans, Rice, Fajita Veggies, Cheese, Sour Cream, Lettuce]][Fresh Tomato Salsa (Mild), [Black Beans, Rice, Cheese, Sour Cream, Lettuce]][Fresh Tomato Salsa, [Rice, Cheese, Lettuce]][Fresh Tomato Salsa, [Rice, Cheese, Sour Cream, Lettuce]][Fresh Tomato Salsa, [Fajita Vegetables, Rice, Cheese, Guacamole]][Fresh Tomato Salsa, [Rice, Guacamole, Lettuce]][Roasted Chili Corn Salsa, [Fajita Vegetables, Lettuce, Black Beans]][Roasted Chili Corn Salsa, [Fajita Vegetables, Cheese, Lettuce]][Roasted Chili Corn Salsa, [Rice, Fajita Vegetables, Cheese, Lettuce]][Fresh Tomato Salsa, [Fajita Vegetables, Rice]][Fresh Tomato Salsa, [Fajita Vegetables, Rice, Sour Cream, Lettuce]][Fresh Tomato Salsa, [Fajita Vegetables, Rice, Cheese, Sour Cream, Guacamole, Lettuce]][Fresh Tomato Salsa, [Rice, Fajita Vegetables, Cheese, Lettuce, Guacamole]][Tomatillo Green Chili Salsa, [Rice, Pinto Beans, Sour Cream, Lettuce]][Tomatillo Green Chili Salsa, [Rice, Cheese, Sour Cream, Lettuce]][Fresh Tomato Salsa, [Rice, Cheese, Sour Cream, Guacamole, Lettuce]][Tomatillo Green Chili Salsa, [Fajita Vegetables, Rice, Black Beans]][Tomatillo-Red Chili Salsa (Hot), [Rice, Cheese, Sour Cream, Lettuce]][Tomatillo-Red Chili Salsa (Hot), [Rice, Fajita Veggies, Sour Cream, Lettuce]][Fresh Tomato Salsa, [Rice, Fajita Vegetables, Sour Cream, Cheese, Guacamole]][Tomatillo Red Chili Salsa, [Rice, Black Beans, Cheese, Sour Cream, Lettuce]][[Fresh Tomato Salsa (Mild), Tomatillo-Red Chili Salsa (Hot)], [Black Beans, Rice, Cheese, Sour Cream]][Tomatillo-Red Chili Salsa (Hot), [Black Beans, Rice, Cheese, Lettuce]][Roasted Chili Corn Salsa (Medium), [Rice, Cheese, Lettuce]][Tomatillo-Red Chili Salsa (Hot), [Black Beans, Rice, Cheese, Lettuce]][Tomatillo Red Chili Salsa, [Rice, Pinto Beans, Cheese, Lettuce]][Fresh Tomato Salsa, [Rice, Cheese, Sour Cream, Guacamole]][Roasted Chili Corn Salsa, [Rice, Cheese, Sour Cream, Guacamole]][Fresh Tomato Salsa, [Fajita Vegetables, Rice]][[Fresh Tomato Salsa (Mild), Roasted Chili Corn Salsa (Medium)], [Rice, Fajita Veggies]][Tomatillo Red Chili Salsa, [Rice, Black Beans, Cheese, Sour Cream, Guacamole, Lettuce]][[Fresh Tomato Salsa (Mild), Roasted Chili Corn Salsa (Medium), Tomatillo-Red Chili Salsa (Hot)], [Black Beans, Rice, Cheese, Sour Cream]][Tomatillo-Red Chili Salsa (Hot), [Pinto Beans, Rice, Fajita Veggies, Cheese, Sour Cream]][Fresh Tomato Salsa, [Rice, Black Beans, Cheese, Sour Cream, Guacamole]][Roasted Chili Corn Salsa, [Fajita Vegetables, Rice, Pinto Beans, Cheese, Guacamole, Lettuce]][Fresh Tomato Salsa (Mild), [Pinto Beans, Rice, Fajita Veggies, Cheese, Sour Cream, Guacamole, Lettuce]][Fresh Tomato Salsa, [Sour Cream, Cheese]][Fresh Tomato Salsa, [Rice, Cheese, Lettuce]][Tomatillo-Green Chili Salsa (Medium), [Pinto Beans, Rice, Fajita Veggies, Lettuce]][Fresh Tomato Salsa, [Rice, Black Beans, Cheese]][Roasted Chili Corn Salsa (Medium), [Rice, Fajita Veggies, Cheese]][Fresh Tomato Salsa (Mild), [Black Beans, Rice, Fajita Veggies, Cheese]][[Roasted Chili Corn Salsa (Medium), Tomatillo-Red Chili Salsa (Hot)], [Pinto Beans, Rice, Fajita Veggies, Cheese]][Roasted Chili Corn Salsa, [Rice, Black Beans, Cheese]][Tomatillo-Red Chili Salsa (Hot), [Rice, Cheese, Sour Cream, Lettuce]][[Fresh Tomato Salsa (Mild), Roasted Chili Corn Salsa (Medium)], [Black Beans, Rice, Fajita Veggies, Cheese, Sour Cream, Guacamole, Lettuce]][Roasted Chili Corn Salsa, [Rice, Black Beans, Cheese, Sour Cream, Lettuce]][Fresh Tomato Salsa, [Rice, Fajita Vegetables, Sour Cream, Cheese, Guacamole]][[Fresh Tomato Salsa (Mild), Tomatillo-Red Chili Salsa (Hot)], [Black Beans, Rice, Cheese, Sour Cream]][Tomatillo Red Chili Salsa, [Rice, Black Beans, Cheese, Sour Cream, Lettuce]][[Tomatillo-Green Chili Salsa (Medium), Roasted Chili Corn Salsa (Medium)], [Black Beans, Rice, Fajita Veggies, Cheese, Sour Cream, Lettuce]][Tomatillo Red Chili Salsa, [Rice, Black Beans, Cheese, Lettuce, Guacamole]][[Fresh Tomato Salsa (Mild), Tomatillo-Red Chili Salsa (Hot)], [Black Beans, Rice, Cheese, Sour Cream]][Tomatillo Green Chili Salsa, [Rice, Cheese, Lettuce]][Fresh Tomato Salsa, [Fajita Vegetables, Rice]][Tomatillo-Red Chili Salsa (Hot), [Sour Cream, Cheese, Fajita Veggies, Guacamole, Rice, Pinto Beans]][[Roasted Chili Corn Salsa (Medium), Tomatillo-Red Chili Salsa (Hot), Fresh Tomato Salsa (Mild), Tomatillo-Green Chili Salsa (Medium)], [Rice, Black Beans, Fajita Veggies, Cheese, Sour Cream]][Tomatillo Green Chili Salsa, [Rice, Black Beans, Sour Cream, Cheese]][Roasted Chili Corn Salsa, [Rice, Cheese, Sour Cream, Lettuce]][Fresh Tomato Salsa, [Fajita Vegetables, Rice]][Tomatillo-Red Chili Salsa (Hot), [Black Beans, Rice, Cheese, Lettuce]][Roasted Chili Corn Salsa (Medium), [Rice, Cheese, Lettuce]][Fresh Tomato Salsa, [Rice, Black Beans, Pinto Beans, Guacamole, Lettuce]][Tomatillo Green Chili Salsa, [Rice, Black Beans, Cheese, Sour Cream, Lettuce]][Fresh Tomato Salsa, [Fajita Vegetables, Rice, Guacamole, Lettuce]][Fresh Tomato Salsa, [Rice, Fajita Vegetables]][Fresh Tomato Salsa, [Rice, Black Beans, Cheese]][[Fresh Tomato Salsa (Mild), Tomatillo-Red Chili Salsa (Hot)], [Black Beans, Rice, Cheese, Sour Cream]][Roasted Chili Corn Salsa, [Rice, Black Beans, Cheese, Lettuce]][Tomatillo Red Chili Salsa, [Rice, Black Beans, Sour Cream, Cheese, Lettuce]][Tomatillo Green Chili Salsa, [Rice, Black Beans, Sour Cream, Cheese]][[Fresh Tomato Salsa (Mild), Roasted Chili Corn Salsa (Medium), Tomatillo-Red Chili Salsa (Hot)], [Pinto Beans, Rice, Fajita Veggies, Cheese, Sour Cream, Lettuce]][Fresh Tomato Salsa (Mild), [Rice, Black Beans, Fajita Veggies, Cheese, Guacamole, Lettuce]][Fresh Tomato Salsa, [Rice, Black Beans, Cheese, Sour Cream]][Tomatillo Green Chili Salsa, [Rice, Cheese, Guacamole]][Tomatillo-Green Chili Salsa (Medium), [Black Beans, Rice, Cheese, Sour Cream]][Fresh Tomato Salsa (Mild), [Pinto Beans, Rice, Sour Cream, Guacamole]][Fresh Tomato Salsa (Mild), [Black Beans, Rice, Cheese, Sour Cream, Guacamole, Lettuce]][Tomatillo Red Chili Salsa, [Rice, Black Beans, Sour Cream, Cheese, Lettuce]][Fresh Tomato Salsa (Mild), [Rice, Pinto Beans, Cheese, Guacamole, Lettuce]][Fresh Tomato Salsa, [Rice, Black Beans, Cheese, Guacamole, Lettuce]][Tomatillo Green Chili Salsa, [Rice, Black Beans, Cheese, Guacamole]][Tomatillo Red Chili Salsa, [Fajita Vegetables, Rice, Black Beans, Cheese, Guacamole, Lettuce]][Fresh Tomato Salsa, [Fajita Vegetables, Rice, Pinto Beans, Cheese, Guacamole, Lettuce]][Tomatillo Red Chili Salsa, [Rice, Pinto Beans, Guacamole, Lettuce]][Fresh Tomato Salsa, [Rice, Black Beans, Cheese]][Fresh Tomato Salsa, [Fajita Vegetables, Rice, Sour Cream, Lettuce]][Fresh Tomato Salsa (Mild), [Rice, Black Beans, Fajita Veggies, Cheese, Sour Cream, Lettuce]][Tomatillo Green Chili Salsa, [Rice, Sour Cream, Guacamole]][Tomatillo Red Chili Salsa, [Rice, Black Beans, Sour Cream, Cheese, Lettuce]][Fresh Tomato Salsa, [Rice, Black Beans, Cheese, Guacamole, Lettuce]][Roasted Chili Corn Salsa, [Fajita Vegetables, Rice, Pinto Beans, Cheese, Sour Cream, Guacamole, Lettuce]][Roasted Chili Corn Salsa, [Rice, Pinto Beans, Cheese, Sour Cream, Guacamole, Lettuce]][Roasted Chili Corn Salsa, [Rice, Black Beans, Cheese, Sour Cream, Lettuce]][[Fresh Tomato Salsa (Mild), Tomatillo-Red Chili Salsa (Hot)], [Black Beans, Rice, Cheese, Sour Cream, Guacamole]][[Fresh Tomato Salsa (Mild), Roasted Chili Corn Salsa (Medium)], [Black Beans, Guacamole]][Fresh Tomato Salsa, [Rice, Black Beans, Lettuce]][[Fresh Tomato Salsa (Mild), Roasted Chili Corn Salsa (Medium)], [Rice, Fajita Veggies]][Fresh Tomato Salsa, [Sour Cream, Guacamole, Lettuce]][Fresh Tomato Salsa, Cheese][Tomatillo-Red Chili Salsa (Hot), [Pinto Beans, Cheese, Sour Cream, Rice, Fajita Veggies, Guacamole]][Fresh Tomato Salsa, [Fajita Vegetables, Rice]][Tomatillo Red Chili Salsa, [Rice, Black Beans]][Fresh Tomato Salsa, [Black Beans, Cheese, Sour Cream]][Tomatillo Green Chili Salsa, [Fajita Vegetables, Rice, Cheese, Guacamole, Lettuce]][Fresh Tomato Salsa, [Fajita Vegetables, Rice]][[Fresh Tomato Salsa (Mild), Tomatillo-Red Chili Salsa (Hot)], [Guacamole, Rice, Black Beans, Cheese, Sour Cream]][Roasted Chili Corn Salsa (Medium), [Black Beans, Rice, Cheese, Sour Cream, Lettuce]][Fresh Tomato Salsa, [Fajita Vegetables, Rice, Guacamole, Lettuce]][Fresh Tomato Salsa, [Rice, Black Beans, Cheese]][[Fresh Tomato Salsa (Mild), Roasted Chili Corn Salsa (Medium)], [Black Beans, Cheese, Guacamole]][Fresh Tomato Salsa, [Rice, Black Beans, Lettuce]][Fresh Tomato Salsa, [Rice, Pinto Beans, Sour Cream, Cheese, Lettuce]][Fresh Tomato Salsa, [Rice, Cheese, Lettuce]][Fresh Tomato Salsa, [Fajita Vegetables, Rice, Black Beans, Cheese, Guacamole]][Tomatillo Red Chili Salsa, [Rice, Black Beans, Cheese, Sour Cream]][Fresh Tomato Salsa, [Rice, Black Beans, Sour Cream, Cheese, Guacamole]][Roasted Chili Corn Salsa, [Fajita Vegetables, Rice, Black Beans, Lettuce]][Roasted Chili Corn Salsa, [Fajita Vegetables, Black Beans, Pinto Beans, Cheese, Lettuce]][Tomatillo Red Chili Salsa, [Rice, Black Beans, Sour Cream, Cheese, Lettuce]][Tomatillo Red Chili Salsa, [Rice, Cheese, Sour Cream, Lettuce]][Roasted Chili Corn Salsa, [Rice, Black Beans, Guacamole]][Fresh Tomato Salsa, [Fajita Vegetables, Rice]][Fresh Tomato Salsa, [Rice, Black Beans, Cheese, Sour Cream, Guacamole]][Tomatillo Green Chili Salsa, [Rice, Pinto Beans, Sour Cream, Lettuce]][Fresh Tomato Salsa][Fresh Tomato Salsa, [Fajita Vegetables, Rice, Lettuce]][Roasted Chili Corn Salsa, [Rice, Black Beans, Cheese, Sour Cream, Lettuce]][Fresh Tomato Salsa, [Fajita Vegetables, Rice, Lettuce]][Fresh Tomato Salsa, [Rice, Pinto Beans, Cheese, Sour Cream, Lettuce]][Roasted Chili Corn Salsa, [Cheese, Lettuce, Fajita Vegetables, Rice]][Roasted Chili Corn Salsa, [Fajita Vegetables, Rice, Cheese, Sour Cream, Lettuce]][Roasted Chili Corn Salsa, [Fajita Vegetables, Rice, Cheese, Sour Cream]][Roasted Chili Corn Salsa, [Fajita Vegetables, Rice, Cheese, Sour Cream, Lettuce]][Fresh Tomato Salsa, [Rice, Black Beans, Cheese, Sour Cream, Lettuce]][Fresh Tomato Salsa, [Rice, Lettuce]][Fresh Tomato Salsa, [Rice, Cheese, Sour Cream, Lettuce]][Roasted Chili Corn Salsa, [Fajita Vegetables, Rice, Cheese, Sour Cream, Lettuce]][Roasted Chili Corn Salsa, [Rice, Pinto Beans, Cheese, Sour Cream, Lettuce]][Roasted Chili Corn Salsa, [Rice, Cheese]][Fresh Tomato Salsa, [Rice, Black Beans, Cheese, Sour Cream, Lettuce]][Fresh Tomato Salsa, [Rice, Black Beans, Sour Cream, Guacamole, Lettuce]][Fresh Tomato Salsa, [Rice, Black Beans, Cheese, Sour Cream, Guacamole]][Fresh Tomato Salsa, [Rice, Cheese, Lettuce]][[Fresh Tomato Salsa (Mild), Roasted Chili Corn Salsa (Medium)], [Rice, Fajita Veggies]][Fresh Tomato Salsa, [Rice, Pinto Beans, Cheese, Sour Cream, Lettuce]][Fresh Tomato Salsa, [Fajita Vegetables, Rice, Black Beans, Cheese, Guacamole, Lettuce]][Fresh Tomato Salsa, [Rice, Fajita Vegetables]][Roasted Chili Corn Salsa (Medium), [Black Beans, Rice, Cheese, Guacamole, Lettuce]][Fresh Tomato Salsa, [Rice, Black Beans, Cheese, Sour Cream]][Tomatillo Green Chili Salsa, [Rice, Cheese, Sour Cream, Guacamole]][Tomatillo Green Chili Salsa, [Fajita Vegetables, Rice, Pinto Beans, Cheese, Sour Cream, Lettuce]][Fresh Tomato Salsa (Mild), [Black Beans, Rice, Fajita Veggies, Cheese, Sour Cream, Lettuce]][Fresh Tomato Salsa, [Rice, Black Beans, Cheese, Lettuce]][Fresh Tomato Salsa, [Fajita Vegetables, Rice, Black Beans, Pinto Beans, Cheese, Sour Cream, Guacamole, Lettuce]][Fresh Tomato Salsa, [Rice, Cheese, Sour Cream, Lettuce]][Fresh Tomato Salsa, [Rice, Black Beans, Cheese, Sour Cream, Lettuce]][Roasted Chili Corn Salsa, [Rice, Black Beans, Cheese, Sour Cream, Lettuce]][Tomatillo-Red Chili Salsa (Hot), [Black Beans, Rice, Cheese, Lettuce]][Fresh Tomato Salsa, [Rice, Black Beans, Cheese, Sour Cream, Guacamole, Lettuce]][Fresh Tomato Salsa, [Rice, Black Beans, Cheese, Sour Cream, Guacamole]][[Fresh Tomato Salsa (Mild), Roasted Chili Corn Salsa (Medium)], [Black Beans, Rice, Fajita Veggies, Lettuce]][Fresh Tomato Salsa, [Rice, Pinto Beans, Cheese]][Tomatillo Red Chili Salsa, [Rice, Black Beans, Sour Cream, Cheese, Lettuce]][Tomatillo Red Chili Salsa, [Rice, Black Beans, Sour Cream, Cheese, Lettuce]][Tomatillo Green Chili Salsa, [Rice, Cheese, Sour Cream, Lettuce]][Tomatillo Red Chili Salsa, [Rice, Black Beans, Sour Cream, Guacamole, Lettuce]][Tomatillo Green Chili Salsa, [Rice, Black Beans, Sour Cream, Lettuce]][Roasted Chili Corn Salsa, [Rice, Black Beans, Cheese, Guacamole]][[Fresh Tomato Salsa (Mild), Roasted Chili Corn Salsa (Medium)], [Rice, Cheese, Sour Cream, Guacamole, Lettuce]][Roasted Chili Corn Salsa (Medium), [Pinto Beans, Rice, Cheese, Sour Cream, Lettuce]][Roasted Chili Corn Salsa, [Fajita Vegetables, Rice, Pinto Beans, Cheese, Sour Cream, Lettuce]][Fresh Tomato Salsa, [Fajita Vegetables, Rice, Pinto Beans, Cheese, Sour Cream, Lettuce]][Tomatillo-Red Chili Salsa (Hot), [Black Beans, Cheese, Lettuce]][Fresh Tomato Salsa, [Guacamole, Cheese, Sour Cream, Fajita Vegetables, Rice]][Fresh Tomato Salsa, Cheese][Fresh Tomato Salsa, [Rice, Black Beans, Guacamole, Lettuce]][Roasted Chili Corn Salsa, [Rice, Black Beans, Cheese, Guacamole]][Tomatillo-Red Chili Salsa (Hot), [Rice, Cheese, Sour Cream, Lettuce]][Fresh Tomato Salsa, [Black Beans, Cheese, Guacamole, Lettuce]][Tomatillo-Red Chili Salsa (Hot), [Rice, Fajita Veggies, Pinto Beans, Sour Cream, Cheese, Guacamole]][Fresh Tomato Salsa, [Fajita Vegetables, Rice, Black Beans, Cheese, Sour Cream, Lettuce]][Fresh Tomato Salsa, [Fajita Vegetables, Rice]][Tomatillo-Red Chili Salsa (Hot), [Black Beans, Rice, Cheese, Lettuce]][Tomatillo-Red Chili Salsa (Hot), [Rice, Black Beans, Cheese, Lettuce]][Tomatillo Red Chili Salsa, [Fajita Vegetables, Rice, Black Beans, Cheese, Sour Cream, Guacamole, Lettuce]][Fresh Tomato Salsa, [Fajita Vegetables, Rice, Black Beans, Cheese, Sour Cream, Guacamole, Lettuce]][Fresh Tomato Salsa, [Fajita Vegetables, Rice, Sour Cream, Guacamole]][Fresh Tomato Salsa, [Rice, Black Beans, Cheese]][Tomatillo Red Chili Salsa, [Rice, Fajita Vegetables, Black Beans, Cheese, Lettuce, Guacamole]][[Roasted Chili Corn Salsa (Medium), Fresh Tomato Salsa (Mild)], [Rice, Fajita Veggies]][[Tomatillo-Green Chili Salsa (Medium), Roasted Chili Corn Salsa (Medium)], [Black Beans, Rice, Fajita Veggies, Cheese, Sour Cream, Guacamole]][Fresh Tomato Salsa, [Rice, Cheese, Sour Cream, Lettuce]][Fresh Tomato Salsa, [Rice, Black Beans, Cheese, Sour Cream]][Tomatillo Red Chili Salsa, Fajita Vegetables][Fresh Tomato Salsa, [Fajita Vegetables, Rice, Guacamole, Lettuce]][Fresh Tomato Salsa, [Sour Cream, Fajita Vegetables, Rice, Guacamole, Cheese]][Fresh Tomato Salsa, [Fajita Vegetables, Rice, Black Beans, Cheese, Sour Cream, Guacamole, Lettuce]][Fresh Tomato Salsa (Mild), [Black Beans, Rice, Fajita Veggies, Cheese, Sour Cream, Guacamole, Lettuce]][Fresh Tomato Salsa, [Rice, Black Beans, Sour Cream, Guacamole, Lettuce]][Fresh Tomato Salsa (Mild), [Rice, Fajita Veggies, Cheese, Lettuce]][Tomatillo Red Chili Salsa, Rice][Roasted Chili Corn Salsa, [Rice, Black Beans, Sour Cream, Cheese, Guacamole]][Fresh Tomato Salsa, [Rice, Cheese, Lettuce]][Fresh Tomato Salsa, [Fajita Vegetables, Rice, Cheese, Sour Cream, Guacamole, Lettuce]][Tomatillo Red Chili Salsa, [Fajita Vegetables, Rice, Black Beans, Cheese, Lettuce]][Tomatillo Red Chili Salsa, [Rice, Black Beans, Cheese, Sour Cream, Guacamole, Lettuce]][Fresh Tomato Salsa (Mild), [Rice, Black Beans, Sour Cream, Guacamole]][Roasted Chili Corn Salsa, [Fajita Vegetables, Rice, Pinto Beans, Cheese, Sour Cream, Lettuce]][Fresh Tomato Salsa, [Fajita Vegetables, Rice, Lettuce]][Fresh Tomato Salsa, [Fajita Vegetables, Rice, Sour Cream, Lettuce]][Tomatillo Green Chili Salsa, [Rice, Pinto Beans, Sour Cream, Lettuce]][Tomatillo Red Chili Salsa, [Rice, Black Beans, Sour Cream, Cheese, Lettuce, Guacamole]][Fresh Tomato Salsa, [Rice, Black Beans, Cheese, Guacamole, Lettuce]][Fresh Tomato Salsa, [Rice, Black Beans, Cheese, Guacamole, Lettuce]][Roasted Chili Corn Salsa, [Rice, Pinto Beans, Cheese, Sour Cream, Lettuce]][Fresh Tomato Salsa, [Pinto Beans, Cheese, Guacamole]][Fresh Tomato Salsa, [Rice, Black Beans, Cheese]][Fresh Tomato Salsa, [Rice, Cheese, Sour Cream]][Fresh Tomato Salsa, [Rice, Black Beans, Guacamole, Lettuce]][Fresh Tomato Salsa (Mild), [Pinto Beans, Rice, Cheese, Sour Cream, Guacamole, Lettuce]][[Roasted Chili Corn Salsa (Medium), Fresh Tomato Salsa (Mild)], [Rice, Fajita Veggies]][Fresh Tomato Salsa, [Rice, Fajita Vegetables, Black Beans]][Fresh Tomato Salsa, [Cheese, Guacamole, Sour Cream, Fajita Vegetables, Rice]][Fresh Tomato Salsa, [Rice, Cheese, Lettuce]][Fresh Tomato Salsa, [Rice, Black Beans, Cheese, Sour Cream, Lettuce]][Fresh Tomato Salsa, [Rice, Cheese, Sour Cream, Lettuce]][Roasted Chili Corn Salsa, [Rice, Black Beans, Sour Cream, Cheese, Guacamole]][Tomatillo-Red Chili Salsa (Hot), [Black Beans, Rice, Cheese, Lettuce]][Fresh Tomato Salsa (Mild), [Rice, Cheese, Sour Cream, Guacamole, Lettuce]][Fresh Tomato Salsa, [Fajita Vegetables, Rice, Cheese, Sour Cream, Lettuce]][Tomatillo Green Chili Salsa, [Rice, Pinto Beans, Cheese, Lettuce]][Fresh Tomato Salsa, [Fajita Vegetables, Rice, Sour Cream, Guacamole, Lettuce]][Tomatillo Red Chili Salsa, [Rice, Black Beans, Pinto Beans, Cheese, Sour Cream]][Fresh Tomato Salsa, [Fajita Vegetables, Rice, Cheese, Lettuce]][Fresh Tomato Salsa, [Rice, Cheese, Sour Cream]][Fresh Tomato Salsa, [Fajita Vegetables, Rice, Black Beans, Cheese, Guacamole, Lettuce]][Fresh Tomato Salsa, [Fajita Vegetables, Rice, Pinto Beans, Cheese, Sour Cream, Guacamole, Lettuce]][Fresh Tomato (Mild), [Rice, Sour Cream, Cheese]][Fresh Tomato (Mild), [Guacamole, Rice]][Roasted Chili Corn Salsa, [Rice, Cheese, Sour Cream, Guacamole, Lettuce]][Tomatillo Green Chili Salsa, [Rice, Pinto Beans, Sour Cream, Lettuce]][Tomatillo Red Chili Salsa, [Rice, Black Beans, Cheese, Lettuce]][Tomatillo-Green Chili Salsa (Medium), [Black Beans, Rice, Fajita Veggies, Cheese, Sour Cream, Guacamole, Lettuce]][[Fresh Tomato Salsa (Mild), Tomatillo-Green Chili Salsa (Medium)], [Rice, Fajita Veggies, Cheese, Sour Cream, Lettuce]][Roasted Chili Corn Salsa (Medium), [Rice, Fajita Veggies, Cheese, Sour Cream, Lettuce]][Roasted Chili Corn Salsa, [Fajita Vegetables, Rice, Pinto Beans, Cheese, Lettuce]][Roasted Chili Corn Salsa, [Fajita Vegetables, Rice, Black Beans, Cheese, Guacamole, Lettuce]][Fresh Tomato Salsa, [Rice, Black Beans, Guacamole]][Fresh Tomato Salsa (Mild), [Black Beans, Rice, Cheese]][Tomatillo-Red Chili Salsa (Hot), [Rice, Black Beans, Cheese, Lettuce]][Tomatillo-Red Chili Salsa (Hot), [Rice, Black Beans, Cheese, Lettuce]][Fresh Tomato Salsa, [Rice, Black Beans, Cheese, Sour Cream, Lettuce]][Fresh Tomato Salsa, [Sour Cream, Fajita Vegetables, Rice, Guacamole, Cheese]][Fresh Tomato Salsa, [Rice, Black Beans, Guacamole]][Fresh Tomato Salsa, [Fajita Vegetables, Rice, Black Beans, Cheese, Guacamole, Lettuce]][[Roasted Chili Corn Salsa (Medium), Tomatillo-Red Chili Salsa (Hot), Fresh Tomato Salsa (Mild)], [Rice, Pinto Beans, Fajita Veggies, Cheese, Sour Cream, Lettuce]][Fresh Tomato Salsa, [Sour Cream, Guacamole, Lettuce]][Fresh Tomato Salsa, [Fajita Vegetables, Rice, Cheese, Sour Cream, Guacamole, Lettuce]][Fresh Tomato Salsa, [Fajita Vegetables, Rice, Black Beans, Cheese, Sour Cream, Lettuce]][Tomatillo-Red Chili Salsa (Hot), [Cheese, Lettuce, Rice, Black Beans]][[Fresh Tomato Salsa (Mild), Roasted Chili Corn Salsa (Medium)], [Black Beans, Rice, Fajita Veggies, Cheese, Sour Cream, Lettuce]][Fresh Tomato Salsa, [Rice, Cheese, Lettuce]][Fresh Tomato Salsa, [Fajita Vegetables, Rice, Black Beans, Guacamole, Lettuce]][Fresh Tomato Salsa, [Rice, Pinto Beans, Cheese, Lettuce]][[Tomatillo-Red Chili Salsa (Hot), Tomatillo-Green Chili Salsa (Medium)], [Rice, Black Beans, Lettuce]][Roasted Chili Corn Salsa (Medium), [Rice, Fajita Veggies, Cheese, Sour Cream, Lettuce]][Tomatillo Green Chili Salsa, [Sour Cream, Cheese, Guacamole]][Fresh Tomato Salsa, [Rice, Black Beans, Cheese, Sour Cream, Guacamole, Lettuce]][Fresh Tomato Salsa, [Fajita Vegetables, Rice, Cheese, Sour Cream, Guacamole, Lettuce]][Fresh Tomato Salsa, [Fajita Vegetables, Rice, Black Beans, Guacamole, Lettuce]][Tomatillo Green Chili Salsa, [Rice, Black Beans, Cheese, Sour Cream, Guacamole, Lettuce]][Tomatillo Red Chili Salsa, [Rice, Black Beans, Cheese, Sour Cream, Guacamole, Lettuce]][Fresh Tomato Salsa (Mild), [Black Beans, Rice, Fajita Veggies, Cheese, Sour Cream, Lettuce]][[Roasted Chili Corn Salsa (Medium), Fresh Tomato Salsa (Mild)], [Rice, Fajita Veggies]][[Roasted Chili Corn Salsa (Medium), Fresh Tomato Salsa (Mild)], [Fajita Veggies, Lettuce, Rice, Black Beans]][Tomatillo Red Chili Salsa, [Sour Cream, Cheese, Guacamole, Lettuce, Black Beans, Rice]][Fresh Tomato (Mild), [Lettuce, Fajita Veggies, Black Beans, Rice, Sour Cream, Cheese]][[Fresh Tomato Salsa (Mild), Roasted Chili Corn Salsa (Medium)], [Black Beans, Rice, Cheese, Sour Cream, Lettuce]][Tomatillo Green Chili Salsa, [Rice, Pinto Beans, Sour Cream, Lettuce]][[Fresh Tomato Salsa (Mild), Roasted Chili Corn Salsa (Medium)], [Fajita Veggies, Rice]][Tomatillo-Red Chili Salsa (Hot), [Pinto Beans, Rice, Fajita Veggies, Cheese, Sour Cream, Guacamole]][Fresh Tomato Salsa, [Fajita Vegetables, Rice, Black Beans, Cheese, Sour Cream, Lettuce]][Roasted Chili Corn Salsa, [Rice, Fajita Vegetables, Lettuce, Pinto Beans, Black Beans, Guacamole, Cheese]][Tomatillo Green Chili Salsa, [Rice, Black Beans, Cheese]][Fresh Tomato Salsa (Mild), Lettuce][Fresh Tomato Salsa (Mild), Cheese][Roasted Chili Corn Salsa (Medium), Cheese][Tomatillo Green Chili Salsa, [Rice, Black Beans, Cheese, Lettuce]][Fresh Tomato Salsa, [Fajita Vegetables, Rice, Black Beans, Cheese, Sour Cream, Lettuce]][Fresh Tomato Salsa, [Rice, Cheese, Sour Cream, Guacamole]][Fresh Tomato Salsa, [Rice, Black Beans, Pinto Beans, Cheese, Lettuce]][Fresh Tomato Salsa, [Fajita Vegetables, Rice, Black Beans, Sour Cream, Lettuce]][Fresh Tomato Salsa, [Rice, Black Beans, Cheese, Guacamole, Lettuce]][Fresh Tomato Salsa, [Fajita Vegetables, Rice, Pinto Beans, Cheese, Sour Cream, Guacamole, Lettuce]][Roasted Chili Corn Salsa (Medium), [Rice, Fajita Veggies, Sour Cream]][Fresh Tomato Salsa, [Fajita Vegetables, Rice, Cheese, Sour Cream, Guacamole, Lettuce]][Fresh Tomato Salsa (Mild), [Pinto Beans, Rice, Cheese, Sour Cream]][Fresh Tomato Salsa, [Guacamole, Cheese, Rice, Sour Cream, Fajita Vegetables]][Roasted Chili Corn Salsa, [Rice, Black Beans, Sour Cream, Cheese, Guacamole]][Roasted Chili Corn Salsa, [Rice, Black Beans, Sour Cream, Cheese, Lettuce, Guacamole]][Fresh Tomato Salsa, [Rice, Fajita Vegetables]][Roasted Chili Corn Salsa (Medium), [Black Beans, Rice, Fajita Veggies, Cheese, Sour Cream]][[Tomatillo-Red Chili Salsa (Hot), Tomatillo-Green Chili Salsa (Medium)], [Rice, Black Beans, Cheese, Lettuce]][Roasted Chili Corn Salsa, [Rice, Pinto Beans, Cheese, Sour Cream, Lettuce]][Tomatillo Green Chili Salsa, [Rice, Black Beans, Guacamole, Lettuce]][Fresh Tomato Salsa, [Lettuce, Fajita Vegetables, Guacamole, Rice, Black Beans]][Fresh Tomato Salsa, [Lettuce, Cheese, Pinto Beans, Rice]][Fresh Tomato Salsa, [Rice, Pinto Beans, Sour Cream, Cheese, Lettuce]][Roasted Chili Corn Salsa, [Fajita Vegetables, Rice, Black Beans, Cheese, Sour Cream, Guacamole, Lettuce]][Fresh Tomato Salsa, [Fajita Vegetables, Rice, Black Beans, Cheese, Sour Cream, Guacamole, Lettuce]][Fresh Tomato Salsa, [Rice, Fajita Vegetables]][Fresh Tomato Salsa, [Rice, Cheese, Lettuce]][Fresh Tomato Salsa][Roasted Chili Corn Salsa, [Rice, Black Beans, Sour Cream, Cheese, Guacamole]][Roasted Chili Corn Salsa, [Rice, Pinto Beans, Cheese, Sour Cream, Lettuce]][Fresh Tomato Salsa, [Rice, Cheese, Sour Cream, Lettuce]][Fresh Tomato Salsa, [Rice, Fajita Vegetables]][Roasted Chili Corn Salsa, [Rice, Black Beans, Cheese]][Roasted Chili Corn Salsa, [Fajita Vegetables, Rice]][Tomatillo-Red Chili Salsa (Hot), [Pinto Beans, Rice, Fajita Veggies, Cheese, Sour Cream]][[Fresh Tomato Salsa (Mild), Tomatillo-Green Chili Salsa (Medium)], [Rice, Fajita Veggies, Cheese, Sour Cream, Lettuce]][Roasted Chili Corn Salsa, [Rice, Pinto Beans, Cheese, Sour Cream, Guacamole]][Fresh Tomato Salsa (Mild), [Rice, Black Beans, Fajita Veggies, Cheese, Sour Cream, Lettuce]][Fresh Tomato Salsa, [Fajita Vegetables, Rice, Lettuce]][Fresh Tomato Salsa, [Rice, Black Beans, Cheese, Sour Cream, Guacamole, Lettuce]][Roasted Chili Corn Salsa (Medium), [Pinto Beans, Black Beans, Rice, Cheese, Sour Cream, Guacamole]][Tomatillo-Green Chili Salsa (Medium), [Pinto Beans, Black Beans, Rice, Fajita Veggies, Sour Cream, Lettuce]][Fresh Tomato Salsa, [Fajita Vegetables, Rice, Black Beans, Cheese, Sour Cream, Lettuce]][Fresh Tomato Salsa, [Rice, Cheese, Sour Cream, Lettuce]][[Roasted Chili Corn Salsa (Medium), Tomatillo-Green Chili Salsa (Medium)], [Rice, Fajita Veggies, Cheese, Sour Cream, Lettuce]][Fresh Tomato Salsa, [Cheese, Black Beans, Rice]][Roasted Chili Corn Salsa, [Rice, Black Beans, Sour Cream, Cheese, Guacamole]][Roasted Chili Corn Salsa, [Black Beans, Cheese, Guacamole]][Fresh Tomato Salsa, [Rice, Fajita Vegetables, Sour Cream, Cheese, Guacamole]][Fresh Tomato Salsa, [Rice, Pinto Beans, Cheese, Guacamole, Lettuce]][Fresh Tomato Salsa, [Rice, Cheese]][Tomatillo Green Chili Salsa, [Rice, Cheese]][Roasted Chili Corn Salsa, [Rice, Black Beans, Cheese, Guacamole]][Fresh Tomato Salsa, [Rice, Cheese, Guacamole, Lettuce]][Roasted Chili Corn Salsa, [Rice, Black Beans, Sour Cream, Guacamole]][Fresh Tomato Salsa, [Cheese, Rice, Black Beans]][Fresh Tomato Salsa, [Guacamole, Sour Cream, Cheese, Rice, Fajita Vegetables]][Fresh Tomato Salsa, [Rice, Fajita Vegetables, Black Beans, Sour Cream, Cheese, Lettuce]][Tomatillo Green Chili Salsa, [Rice, Pinto Beans, Sour Cream, Lettuce]][Tomatillo-Red Chili Salsa (Hot), [Black Beans, Rice, Cheese, Lettuce]][Fresh Tomato Salsa (Mild), [Black Beans, Rice, Guacamole, Lettuce]][Tomatillo-Red Chili Salsa (Hot), [Pinto Beans, Rice, Fajita Veggies, Cheese, Sour Cream, Guacamole]][[Roasted Chili Corn Salsa (Medium), Fresh Tomato Salsa (Mild)], [Rice, Black Beans, Fajita Veggies, Guacamole]][[Roasted Chili Corn Salsa (Medium), Tomatillo-Red Chili Salsa (Hot), Fresh Tomato Salsa (Mild)], [Rice, Pinto Beans, Fajita Veggies, Cheese, Sour Cream, Lettuce]][Fresh Tomato Salsa, [Fajita Vegetables, Rice, Pinto Beans, Cheese]][Fresh Tomato Salsa, [Fajita Vegetables, Rice, Black Beans, Cheese, Sour Cream, Guacamole, Lettuce]][Fresh Tomato Salsa, [Fajita Vegetables, Rice, Pinto Beans, Cheese, Sour Cream, Guacamole, Lettuce]][Fresh Tomato Salsa, [Fajita Vegetables, Rice, Black Beans, Cheese, Sour Cream, Lettuce]][Fresh Tomato Salsa, [Rice, Black Beans, Cheese, Sour Cream]][Tomatillo Green Chili Salsa, [Fajita Vegetables, Rice, Black Beans, Cheese, Lettuce]][Fresh Tomato Salsa, [Fajita Vegetables, Rice]][Roasted Chili Corn Salsa (Medium), [Black Beans, Rice, Fajita Veggies, Cheese, Sour Cream]][Fresh Tomato Salsa, [Rice, Cheese, Sour Cream]][[Roasted Chili Corn Salsa (Medium), Tomatillo-Red Chili Salsa (Hot)], [Black Beans, Rice, Fajita Veggies, Guacamole, Lettuce]][Roasted Chili Corn Salsa, [Rice, Pinto Beans, Sour Cream, Cheese, Guacamole]][Fresh Tomato Salsa (Mild), [Black Beans, Rice, Guacamole, Lettuce]][Tomatillo-Red Chili Salsa (Hot), [Cheese, Sour Cream, Fajita Veggies, Pinto Beans, Rice]][Fresh Tomato Salsa (Mild), [Black Beans, Rice, Fajita Veggies, Cheese]][Fresh Tomato Salsa, [Rice, Black Beans, Cheese, Guacamole, Lettuce]][Fresh Tomato Salsa, [Rice, Cheese, Sour Cream, Guacamole, Fajita Vegetables]][Tomatillo Green Chili Salsa, [Rice, Cheese, Guacamole, Lettuce]][Roasted Chili Corn Salsa, [Rice, Black Beans, Sour Cream, Guacamole]][Tomatillo Red Chili Salsa, [Rice, Cheese, Sour Cream, Guacamole]][Fresh Tomato Salsa, [Fajita Vegetables, Rice, Cheese, Sour Cream, Guacamole, Lettuce]][[Roasted Chili Corn Salsa (Medium), Fresh Tomato Salsa (Mild)], [Rice, Fajita Veggies]][Fresh Tomato (Mild), [Lettuce, Fajita Veggies, Pinto Beans, Rice, Sour Cream, Cheese]][Tomatillo-Red Chili Salsa (Hot), [Pinto Beans, Rice, Fajita Veggies, Cheese, Sour Cream, Guacamole]][[Tomatillo-Green Chili Salsa (Medium), Tomatillo-Red Chili Salsa (Hot)], [Pinto Beans, Rice, Fajita Veggies, Cheese, Sour Cream, Guacamole]][Fresh Tomato Salsa, [Fajita Vegetables, Rice, Black Beans, Sour Cream, Guacamole, Lettuce]][Roasted Chili Corn Salsa, [Fajita Vegetables, Rice, Black Beans, Guacamole]][[Roasted Chili Corn Salsa (Medium), Fresh Tomato Salsa (Mild)], [Rice, Black Beans, Fajita Veggies, Guacamole]][[Roasted Chili Corn Salsa (Medium), Tomatillo-Red Chili Salsa (Hot), Fresh Tomato Salsa (Mild)], [Rice, Pinto Beans, Fajita Veggies, Cheese, Sour Cream, Lettuce]][Fresh Tomato Salsa, [Fajita Vegetables, Rice, Cheese, Sour Cream, Lettuce]][Roasted Chili Corn Salsa, [Rice, Black Beans, Cheese, Sour Cream, Lettuce]][Fresh Tomato Salsa, [Rice, Black Beans, Sour Cream]][Roasted Chili Corn Salsa, [Rice, Black Beans, Cheese, Sour Cream, Guacamole, Lettuce]][Tomatillo-Red Chili Salsa (Hot), [Black Beans, Rice, Cheese, Lettuce]][Fresh Tomato Salsa, [Guacamole, Lettuce, Rice, Cheese, Sour Cream, Black Beans]][Fresh Tomato Salsa, [Rice, Fajita Vegetables]][[Fresh Tomato Salsa (Mild), Roasted Chili Corn Salsa (Medium)], [Black Beans, Rice, Cheese, Sour Cream, Lettuce]][Fresh Tomato Salsa, [Rice, Black Beans, Cheese]][[Fresh Tomato Salsa (Mild), Tomatillo-Red Chili Salsa (Hot)], [Black Beans, Rice, Cheese, Sour Cream, Guacamole]][Fresh Tomato Salsa (Mild), [Black Beans, Rice, Fajita Veggies, Guacamole, Lettuce]][Fresh Tomato Salsa, [Rice, Black Beans, Cheese, Sour Cream, Guacamole, Lettuce]][Tomatillo Green Chili Salsa, [Fajita Vegetables, Rice]][Roasted Chili Corn Salsa, [Rice, Black Beans, Sour Cream, Cheese, Guacamole]][Tomatillo Red Chili Salsa, [Rice, Black Beans, Cheese, Sour Cream, Guacamole, Lettuce]][Roasted Chili Corn Salsa, [Rice, Black Beans, Cheese, Sour Cream, Guacamole, Lettuce]][Roasted Chili Corn Salsa (Medium), [Pinto Beans, Black Beans, Rice, Fajita Veggies, Cheese, Lettuce]][Tomatillo-Red Chili Salsa (Hot), [Pinto Beans, Black Beans, Rice, Fajita Veggies, Cheese, Sour Cream, Lettuce]][Fresh Tomato Salsa, [Rice, Pinto Beans, Sour Cream, Cheese, Lettuce]][Fresh Tomato Salsa, [Fajita Vegetables, Rice, Black Beans, Cheese, Guacamole, Lettuce]][Roasted Chili Corn Salsa, [Rice, Black Beans, Cheese, Guacamole, Lettuce]][Tomatillo-Red Chili Salsa (Hot), [Rice, Pinto Beans, Fajita Veggies, Cheese, Sour Cream, Guacamole]][Roasted Chili Corn Salsa, [Rice, Black Beans, Cheese, Sour Cream, Lettuce]][Tomatillo-Red Chili Salsa (Hot), [Pinto Beans, Rice, Cheese, Sour Cream, Lettuce]][Tomatillo Green Chili Salsa, [Rice, Fajita Vegetables, Black Beans, Sour Cream, Cheese, Lettuce]][Fresh Tomato Salsa, [Rice, Cheese, Sour Cream]][Tomatillo Red Chili Salsa, [Rice, Black Beans, Sour Cream, Cheese, Lettuce, Guacamole]][Fresh Tomato Salsa, [Fajita Vegetables, Rice, Pinto Beans, Cheese, Sour Cream, Guacamole, Lettuce]][Fresh Tomato Salsa, Cheese][Fresh Tomato Salsa, [Fajita Vegetables, Rice, Black Beans, Cheese, Sour Cream, Lettuce]][Fresh Tomato Salsa, [Rice, Cheese, Sour Cream]][Tomatillo Red Chili Salsa, [Fajita Vegetables, Rice, Black Beans, Cheese, Sour Cream, Guacamole, Lettuce]][Fresh Tomato Salsa, [Fajita Vegetables, Rice, Black Beans, Cheese, Sour Cream, Guacamole, Lettuce]][[Tomatillo-Green Chili Salsa (Medium), Roasted Chili Corn Salsa (Medium)], [Rice, Fajita Veggies, Guacamole, Lettuce]][Tomatillo Green Chili Salsa, [Rice, Black Beans, Cheese, Sour Cream]][Fresh Tomato Salsa, [Rice, Fajita Vegetables, Pinto Beans, Cheese, Lettuce, Guacamole]][Fresh Tomato Salsa, [Rice, Black Beans, Cheese, Sour Cream]][Fresh Tomato Salsa, [Fajita Vegetables, Rice, Black Beans, Cheese]][Fresh Tomato Salsa, [Rice, Black Beans, Cheese, Lettuce]][Fresh Tomato Salsa, [Rice, Fajita Vegetables, Black Beans, Cheese, Lettuce]][Fresh Tomato Salsa, [Rice, Black Beans, Cheese, Lettuce, Guacamole]][Tomatillo-Red Chili Salsa (Hot), [Black Beans, Rice, Cheese, Lettuce]][Fresh Tomato Salsa, [Fajita Vegetables, Rice]][Fresh Tomato Salsa, [Rice, Cheese, Lettuce]][Fresh Tomato Salsa, [Rice, Black Beans, Fajita Vegetables, Lettuce, Cheese, Sour Cream]][[Roasted Chili Corn Salsa (Medium), Fresh Tomato Salsa (Mild)], [Rice, Fajita Veggies]][Tomatillo Green Chili Salsa, [Rice, Black Beans, Guacamole, Lettuce]][Fresh Tomato Salsa, [Rice, Black Beans, Cheese, Sour Cream]][Fresh Tomato Salsa, [Fajita Vegetables, Rice, Black Beans, Sour Cream, Guacamole, Lettuce]][Fresh Tomato Salsa, [Fajita Vegetables, Rice, Black Beans, Pinto Beans, Cheese, Sour Cream, Guacamole, Lettuce]][Fresh Tomato Salsa, [Fajita Vegetables, Rice, Black Beans, Cheese, Sour Cream, Guacamole, Lettuce]][[Fresh Tomato Salsa (Mild), Tomatillo-Green Chili Salsa (Medium), Roasted Chili Corn Salsa (Medium), Tomatillo-Red Chili Salsa (Hot)], [Black Beans, Rice, Fajita Veggies, Cheese, Sour Cream]][Tomatillo-Green Chili Salsa (Medium), [Rice, Cheese, Sour Cream, Lettuce]][Roasted Chili Corn Salsa, [Rice, Black Beans, Cheese, Sour Cream, Lettuce]][Roasted Chili Corn Salsa, [Rice, Black Beans, Sour Cream, Cheese, Guacamole]][Fresh Tomato Salsa, [Fajita Vegetables, Rice, Pinto Beans, Cheese, Sour Cream, Guacamole, Lettuce]][Tomatillo Green Chili Salsa, [Rice, Fajita Vegetables, Black Beans, Sour Cream, Cheese, Lettuce]][Fresh Tomato Salsa, [Rice, Pinto Beans, Cheese, Lettuce]][Roasted Chili Corn Salsa, [Rice, Black Beans, Guacamole, Lettuce]][Roasted Chili Corn Salsa, [Fajita Vegetables, Rice, Pinto Beans, Cheese, Sour Cream, Lettuce]][Fresh Tomato Salsa, [Rice, Black Beans, Cheese, Sour Cream, Guacamole, Lettuce]][Fresh Tomato Salsa (Mild), [Black Beans, Rice, Cheese]][Roasted Chili Corn Salsa (Medium), [Black Beans, Rice, Fajita Veggies, Cheese, Sour Cream]][Fresh Tomato Salsa (Mild), [Black Beans, Rice, Sour Cream, Guacamole]][[Fresh Tomato Salsa (Mild), Roasted Chili Corn Salsa (Medium)], [Black Beans, Rice, Cheese, Sour Cream, Lettuce]][Roasted Chili Corn Salsa, [Fajita Vegetables, Rice, Cheese, Sour Cream, Lettuce]][Fresh Tomato Salsa, [Rice, Cheese, Sour Cream]][Fresh Tomato Salsa, [Rice, Cheese, Lettuce]][Fresh Tomato Salsa, [Fajita Vegetables, Rice, Sour Cream, Guacamole, Lettuce]][Fresh Tomato Salsa, [Fajita Vegetables, Rice, Cheese, Sour Cream, Guacamole, Lettuce]][Fresh Tomato Salsa, [Fajita Vegetables, Rice, Cheese, Sour Cream, Guacamole, Lettuce]][Tomatillo Red Chili Salsa, [Rice, Cheese, Lettuce]][Tomatillo Green Chili Salsa, [Rice, Pinto Beans, Sour Cream, Lettuce]][Fresh Tomato Salsa, [Fajita Vegetables, Rice, Lettuce]][Fresh Tomato Salsa, [Rice, Black Beans, Cheese, Sour Cream, Guacamole, Lettuce]][Fresh Tomato Salsa, [Fajita Vegetables, Rice, Black Beans, Cheese, Guacamole, Lettuce]][Fresh Tomato Salsa, [Guacamole, Sour Cream, Cheese, Rice, Fajita Vegetables]][Fresh Tomato Salsa, [Rice, Black Beans, Cheese, Sour Cream, Guacamole, Lettuce]][Tomatillo Red Chili Salsa, [Rice, Black Beans, Pinto Beans, Cheese, Sour Cream, Lettuce]][Tomatillo Red Chili Salsa, [Rice, Black Beans, Cheese, Sour Cream, Lettuce]][Fresh Tomato Salsa, [Rice, Cheese, Sour Cream, Guacamole]][Fresh Tomato Salsa, [Rice, Black Beans, Lettuce, Guacamole]][Tomatillo Green Chili Salsa, [Rice, Black Beans, Cheese, Sour Cream, Guacamole, Lettuce]][Fresh Tomato Salsa, [Rice, Black Beans, Pinto Beans, Cheese, Sour Cream]][Tomatillo Red Chili Salsa, [Rice, Black Beans, Cheese, Sour Cream, Lettuce]][Roasted Chili Corn Salsa, [Fajita Vegetables, Rice, Black Beans, Sour Cream, Lettuce]][Fresh Tomato Salsa, [Fajita Vegetables, Rice]][Fresh Tomato Salsa, [Fajita Vegetables, Rice, Lettuce]][Tomatillo Green Chili Salsa, [Fajita Vegetables, Rice, Black Beans, Cheese, Lettuce]][Fresh Tomato Salsa, [Rice, Black Beans, Sour Cream, Cheese]][White Rice][White Rice][Tomatillo Red Chili Salsa, [Rice, Black Beans, Cheese, Sour Cream, Lettuce]][Tomatillo Green Chili Salsa, [Rice, Pinto Beans, Sour Cream, Lettuce]][Fresh Tomato Salsa, [Fajita Vegetables, Rice, Cheese, Guacamole]][Fresh Tomato Salsa, [Rice, Black Beans, Cheese, Guacamole, Lettuce]][Fresh Tomato Salsa, [Pinto Beans, Rice, Lettuce, Cheese]][Fresh Tomato Salsa, [Rice, Black Beans, Cheese, Sour Cream, Lettuce]][Fresh Tomato Salsa, [Fajita Vegetables, Rice, Black Beans, Sour Cream, Lettuce]][Roasted Chili Corn Salsa, [Fajita Vegetables, Rice, Black Beans, Cheese, Guacamole]][Fresh Tomato Salsa, [Fajita Vegetables, Black Beans, Pinto Beans, Guacamole, Lettuce]][Tomatillo Red Chili Salsa, [Rice, Black Beans, Cheese, Guacamole]][Fresh Tomato Salsa, [Guacamole, Lettuce]][Tomatillo Red Chili Salsa, [Fajita Vegetables, Rice, Black Beans, Cheese, Sour Cream]][Fresh Tomato Salsa, [Rice, Black Beans, Cheese, Guacamole, Lettuce]][Fresh Tomato Salsa, [Rice, Black Beans, Cheese, Lettuce]][Roasted Chili Corn Salsa, [Rice, Pinto Beans, Sour Cream, Cheese, Guacamole]][Roasted Chili Corn Salsa, [Rice, Black Beans, Guacamole]][Fresh Tomato Salsa, [Pinto Beans, Rice, Cheese, Lettuce, Guacamole, Sour Cream, Fajita Vegetables]][Fresh Tomato Salsa, [Rice, Black Beans, Guacamole, Lettuce]][Fresh Tomato Salsa, [Rice, Cheese, Sour Cream, Lettuce]][Tomatillo Green Chili Salsa, [Fajita Vegetables, Black Beans, Sour Cream, Lettuce]][Fresh Tomato Salsa, [Fajita Vegetables, Rice, Black Beans, Pinto Beans, Cheese, Sour Cream]][Fresh Tomato Salsa, [Black Beans, Rice, Sour Cream, Cheese, Guacamole, Lettuce]][Fresh Tomato Salsa, [Rice, Black Beans, Pinto Beans, Cheese]][Fresh Tomato Salsa, [Rice, Black Beans, Pinto Beans, Cheese, Sour Cream, Guacamole]][Fresh Tomato Salsa, [Rice, Black Beans, Cheese]][Fresh Tomato Salsa, [Fajita Vegetables, Rice, Black Beans, Guacamole, Lettuce]][Tomatillo Green Chili Salsa, [Rice, Pinto Beans, Sour Cream, Lettuce]][Fresh Tomato Salsa, [Rice, Fajita Vegetables, Black Beans, Sour Cream, Cheese, Lettuce, Guacamole]][Fresh Tomato Salsa, [Rice, Black Beans, Cheese, Sour Cream, Guacamole]][Fresh Tomato Salsa, [Rice, Pinto Beans, Cheese, Lettuce]][Fresh Tomato Salsa, [Rice, Black Beans, Cheese, Sour Cream, Lettuce]][Tomatillo Green Chili Salsa, [Rice, Pinto Beans, Cheese, Sour Cream, Lettuce]][Fresh Tomato Salsa, [Rice, Black Beans, Sour Cream]][Fresh Tomato Salsa, [Rice, Black Beans, Cheese]][Fresh Tomato Salsa, Rice][Fresh Tomato Salsa, [Rice, Pinto Beans, Cheese, Sour Cream, Guacamole, Lettuce]][Fresh Tomato Salsa, [Fajita Vegetables, Rice, Black Beans, Cheese, Sour Cream, Guacamole, Lettuce]][Fresh Tomato Salsa, [Rice, Black Beans, Cheese, Sour Cream, Guacamole, Lettuce]][Fresh Tomato Salsa, [Fajita Vegetables, Rice, Sour Cream, Lettuce]][Fresh Tomato Salsa, [Rice, Pinto Beans, Sour Cream, Cheese, Lettuce, Guacamole]][Tomatillo Green Chili Salsa, [Fajita Vegetables, Rice, Sour Cream, Guacamole]][Fresh Tomato Salsa, [Rice, Cheese, Sour Cream, Guacamole]][Roasted Chili Corn Salsa, [Rice, Fajita Vegetables, Cheese, Lettuce]][Roasted Chili Corn Salsa, [Rice, Black Beans, Cheese, Sour Cream, Lettuce]][Fresh Tomato Salsa, [Rice, Black Beans, Cheese, Sour Cream]][Tomatillo Green Chili Salsa, [Fajita Vegetables, Rice, Pinto Beans, Cheese, Guacamole, Lettuce]][Roasted Chili Corn Salsa, [Black Beans, Sour Cream, Cheese, Guacamole]][Roasted Chili Corn Salsa, [Fajita Vegetables, Rice, Cheese, Sour Cream, Lettuce]][Fresh Tomato Salsa, [Fajita Vegetables, Rice, Pinto Beans, Cheese, Guacamole, Lettuce]][Roasted Chili Corn Salsa, [Rice, Cheese, Lettuce]][Fresh Tomato Salsa, [Rice, Cheese, Sour Cream, Guacamole]][Tomatillo Red Chili Salsa, [Rice, Black Beans, Pinto Beans, Cheese, Sour Cream, Lettuce]][Tomatillo Green Chili Salsa, [Rice, Black Beans, Sour Cream, Lettuce]][Fresh Tomato Salsa, [Rice, Black Beans, Cheese, Sour Cream, Guacamole, Lettuce]][Fresh Tomato Salsa, [Rice, Black Beans, Cheese, Sour Cream, Guacamole]][Fresh Tomato Salsa, [Rice, Black Beans, Sour Cream, Cheese, Lettuce, Guacamole]][Roasted Chili Corn Salsa, [Rice, Black Beans, Cheese, Lettuce, Guacamole]][Tomatillo Red Chili Salsa, [Rice, Black Beans, Sour Cream, Cheese, Lettuce]][Tomatillo Green Chili Salsa, [Rice, Black Beans]][Roasted Chili Corn Salsa, [Cheese, Lettuce]][Fresh Tomato Salsa, [Rice, Black Beans, Cheese, Sour Cream]]\"\n        ],\n        \"semantic_type\": \"\",\n        \"description\": \"\"\n      }\n    },\n    {\n      \"column\": \"item_price\",\n      \"properties\": {\n        \"dtype\": \"string\",\n        \"num_unique_values\": 1,\n        \"samples\": [\n          \"$16.98 $10.98 $11.25 $8.75 $8.49 $11.25 $8.75 $8.75 $8.75 $8.75 $11.25 $11.25 $11.25 $11.25 $17.50 $8.49 $10.98 $8.75 $8.75 $10.98 $8.75 $11.25 $11.25 $8.75 $8.75 $8.75 $8.75 $8.75 $8.75 $17.50 $8.75 $11.25 $11.25 $8.49 $11.25 $8.75 $8.75 $8.75 $8.75 $8.49 $8.75 $11.25 $11.25 $32.94 $11.25 $17.50 $8.75 $8.75 $11.25 $8.75 $8.49 $8.75 $8.75 $8.75 $11.25 $8.75 $8.75 $11.25 $11.25 $8.49 $8.75 $8.75 $8.75 $11.25 $10.98 $8.75 $11.25 $8.49 $8.75 $8.75 $8.75 $8.75 $8.49 $17.50 $8.49 $11.25 $11.25 $11.25 $11.25 $8.75 $8.75 $11.25 $8.49 $8.49 $8.75 $8.75 $8.75 $10.98 $8.75 $8.75 $10.98 $8.75 $11.25 $11.25 $8.75 $11.25 $11.25 $8.75 $8.49 $10.98 $8.75 $11.25 $8.75 $8.75 $8.75 $8.75 $8.49 $8.49 $8.75 $8.75 $11.25 $17.50 $8.75 $8.75 $8.75 $11.25 $11.25 $8.49 $10.98 $8.49 $8.49 $8.75 $8.75 $17.50 $8.75 $8.75 $8.75 $8.49 $8.75 $8.49 $11.25 $8.75 $8.75 $11.25 $17.50 $8.75 $8.75 $8.75 $11.25 $8.75 $8.75 $8.75 $8.49 $8.75 $11.25 $11.25 $8.75 $11.25 $11.25 $10.98 $10.98 $11.25 $11.25 $8.75 $8.75 $8.75 $11.25 $10.98 $8.75 $11.25 $8.75 $8.49 $8.49 $8.75 $8.75 $8.75 $8.75 $11.25 $8.75 $8.75 $10.98 $11.25 $8.49 $8.75 $8.75 $11.25 $22.50 $8.49 $8.75 $11.25 $8.49 $10.98 $8.75 $11.25 $8.75 $11.25 $8.75 $8.75 $8.75 $26.25 $8.75 $8.75 $11.25 $11.25 $8.49 $8.49 $8.49 $8.75 $8.75 $11.25 $11.25 $8.75 $8.75 $8.75 $8.75 $17.50 $11.25 $11.25 $8.75 $8.75 $11.25 $8.75 $8.49 $8.49 $11.25 $8.75 $8.49 $8.49 $8.49 $8.49 $8.75 $11.25 $11.25 $8.75 $8.49 $11.25 $8.49 $8.49 $11.25 $11.25 $10.98 $8.75 $8.75 $8.49 $8.75 $8.49 $8.49 $8.49 $8.75 $8.49 $10.98 $8.75 $11.25 $8.49 $8.75 $8.49 $11.25 $8.49 $8.75 $8.75 $21.96 $8.49 $8.75 $8.75 $8.75 $8.49 $8.49 $11.25 $8.75 $11.25 $8.75 $8.75 $8.49 $8.75 $8.75 $8.75 $8.49 $10.98 $8.75 $11.25 $8.49 $10.98 $10.98 $8.75 $10.98 $11.25 $11.25 $11.25 $11.25 $11.25 $8.75 $8.75 $8.49 $11.25 $8.75 $11.25 $11.25 $11.25 $8.75 $10.98 $10.98 $8.75 $8.49 $11.25 $8.75 $21.96 $8.75 $8.75 $17.50 $11.25 $8.75 $10.98 $8.49 $11.25 $8.75 $10.98 $8.75 $8.75 $8.75 $11.25 $8.75 $11.25 $8.75 $8.75 $8.75 $8.75 $11.25 $8.75 $11.25 $8.75 $8.75 $8.75 $8.75 $8.75 $8.75 $8.75 $8.75 $8.75 $8.75 $8.75 $8.75 $8.75 $8.75 $8.75 $8.75 $8.75 $11.25 $11.25 $8.75 $16.98 $8.75 $11.25 $8.75 $10.98 $8.75 $11.25 $8.75 $8.49 $8.75 $11.25 $8.75 $8.75 $8.75 $8.49 $11.25 $11.25 $8.49 $8.75 $8.75 $8.75 $8.75 $11.25 $8.75 $11.25 $10.98 $8.49 $8.75 $8.75 $8.49 $11.25 $8.75 $11.25 $22.50 $8.49 $11.25 $21.96 $8.75 $8.75 $8.49 $8.49 $11.25 $11.25 $11.25 $8.75 $11.25 $16.98 $10.98 $8.75 $8.75 $8.75 $11.25 $11.25 $11.25 $10.98 $11.25 $8.49 $8.75 $11.25 $8.75 $11.25 $8.75 $11.25 $10.98 $8.75 $8.75 $8.75 $8.75 $11.25 $11.25 $11.25 $8.75 $11.25 $8.75 $8.75 $11.25 $10.98 $16.98 $8.75 $11.25 $8.75 $8.75 $8.75 $11.25 $8.49 $10.98 $8.75 $8.75 $11.25 $8.75 $8.75 $8.75 $11.25 $11.25 $8.19 $10.58 $11.25 $8.75 $8.75 $21.96 $8.49 $8.49 $8.75 $11.25 $11.25 $8.49 $8.49 $8.49 $8.75 $11.25 $11.25 $11.25 $8.49 $11.25 $11.25 $8.75 $8.49 $8.49 $8.75 $11.25 $8.75 $8.49 $8.49 $11.25 $11.25 $11.25 $11.25 $11.25 $11.25 $8.49 $16.98 $8.49 $11.25 $8.19 $8.49 $8.75 $16.98 $21.96 $8.75 $11.25 $8.75 $8.49 $8.49 $8.49 $8.75 $8.75 $11.25 $8.75 $8.75 $11.25 $11.25 $8.49 $11.25 $8.49 $11.25 $11.25 $11.25 $8.75 $8.49 $8.49 $8.75 $11.25 $11.25 $8.75 $8.75 $11.25 $11.25 $8.75 $8.75 $8.75 $11.25 $8.75 $8.75 $8.75 $8.75 $8.75 $8.49 $8.49 $11.25 $8.49 $8.75 $11.25 $10.98 $8.49 $8.75 $17.50 $8.49 $8.75 $11.25 $11.25 $11.25 $11.25 $8.75 $8.75 $11.25 $11.25 $11.25 $8.75 $11.25 $8.75 $8.75 $8.49 $10.98 $21.96 $10.98 $8.49 $8.75 $11.25 $11.25 $8.75 $8.75 $8.75 $8.75 $8.49 $8.75 $10.98 $11.25 $10.98 $16.98 $16.98 $11.25 $11.25 $11.25 $11.25 $11.25 $11.25 $16.98 $8.19 $10.98 $10.98 $11.25 $11.25 $10.98 $8.49 $8.75 $8.75 $8.75 $11.25 $8.49 $11.25 $8.75 $8.49 $8.75 $10.98 $10.98 $11.25 $8.75 $11.25 $11.25 $11.25 $8.49 $8.49 $8.75 $11.25 $11.25 $21.96 $8.75 $8.49 $8.75 $8.75 $11.25 $11.25 $8.75 $8.75 $8.75 $11.25 $11.25 $10.98 $8.75 $11.25 $8.75 $8.75 $8.75 $8.75 $11.25 $8.49 $8.75 $8.75 $8.75 $16.98 $11.25 $8.75 $11.25 $11.25 $11.25 $8.49 $8.49 $8.75 $11.25 $11.25 $8.75 $8.75 $11.25 $8.75 $11.25 $8.49 $8.49 $10.98 $8.49 $8.75 $8.75 $8.75 $11.25 $11.25 $11.25 $8.75 $8.75 $8.75 $11.25 $11.25 $11.25 $11.25 $8.75 $8.75 $11.25 $11.25 $11.25 $8.75 $8.75 $8.75 $8.75 $8.75 $8.75 $8.75 $8.50 $8.50 $8.75 $8.75 $11.25 $11.25 $8.75 $8.75 $8.75 $11.25 $11.25 $11.25 $11.25 $8.75 $11.25 $8.75 $11.25 $11.25 $11.25 $11.25 $8.75 $8.75 $8.75 $11.25 $8.75 $11.25 $8.75 $11.25 $8.75 $22.50 $11.25 $17.50 $8.75 $8.75 $8.75 $8.75 $8.75 $11.25 $11.25 $11.25 $8.75 $11.25 $11.25 $11.25 $8.75 $8.75 $8.75 $11.25 $11.25 $8.75 $11.25 $8.75 $11.25 $8.75 $8.75 $11.25 $11.25 $11.25 $11.25 $8.75 $8.75 $8.75 $8.75 \"\n        ],\n        \"semantic_type\": \"\",\n        \"description\": \"\"\n      }\n    }\n  ]\n}"
            }
          },
          "metadata": {},
          "execution_count": 9
        }
      ],
      "source": [
        "chipo.groupby('item_name').sum().sort_values(['quantity'], ascending=False).head(1)"
      ]
    },
    {
      "cell_type": "markdown",
      "metadata": {
        "id": "ZPRQl-aqZaKX"
      },
      "source": [
        "\n",
        "### What was the most ordered item in the choice_description column? How many were ordered?"
      ]
    },
    {
      "cell_type": "code",
      "source": [
        "chipo.groupby('choice_description').sum().sort_values(['quantity'], ascending=False).quantity.head(1)"
      ],
      "metadata": {
        "id": "JCuG3Lzd-GMy",
        "colab": {
          "base_uri": "https://localhost:8080/",
          "height": 147
        },
        "outputId": "f0a12029-84fe-4b62-9338-b90fccdf086b"
      },
      "execution_count": 10,
      "outputs": [
        {
          "output_type": "execute_result",
          "data": {
            "text/plain": [
              "choice_description\n",
              "[Diet Coke]    159\n",
              "Name: quantity, dtype: int64"
            ],
            "text/html": [
              "<div>\n",
              "<style scoped>\n",
              "    .dataframe tbody tr th:only-of-type {\n",
              "        vertical-align: middle;\n",
              "    }\n",
              "\n",
              "    .dataframe tbody tr th {\n",
              "        vertical-align: top;\n",
              "    }\n",
              "\n",
              "    .dataframe thead th {\n",
              "        text-align: right;\n",
              "    }\n",
              "</style>\n",
              "<table border=\"1\" class=\"dataframe\">\n",
              "  <thead>\n",
              "    <tr style=\"text-align: right;\">\n",
              "      <th></th>\n",
              "      <th>quantity</th>\n",
              "    </tr>\n",
              "    <tr>\n",
              "      <th>choice_description</th>\n",
              "      <th></th>\n",
              "    </tr>\n",
              "  </thead>\n",
              "  <tbody>\n",
              "    <tr>\n",
              "      <th>[Diet Coke]</th>\n",
              "      <td>159</td>\n",
              "    </tr>\n",
              "  </tbody>\n",
              "</table>\n",
              "</div><br><label><b>dtype:</b> int64</label>"
            ]
          },
          "metadata": {},
          "execution_count": 10
        }
      ]
    },
    {
      "cell_type": "markdown",
      "metadata": {
        "id": "sS6VF2J8ZaKX"
      },
      "source": [
        "### How many items were orderd in total?"
      ]
    },
    {
      "cell_type": "code",
      "execution_count": 11,
      "metadata": {
        "id": "vH7LCMajZaKX",
        "colab": {
          "base_uri": "https://localhost:8080/"
        },
        "outputId": "b5acfd71-6cfb-43bc-8090-825c69ac410b"
      },
      "outputs": [
        {
          "output_type": "execute_result",
          "data": {
            "text/plain": [
              "4972"
            ]
          },
          "metadata": {},
          "execution_count": 11
        }
      ],
      "source": [
        "chipo.quantity.sum()"
      ]
    },
    {
      "cell_type": "markdown",
      "source": [
        "### Provide a list of unique items offered for sale to eat at Chipotle."
      ],
      "metadata": {
        "id": "QLria4x4PK7g"
      }
    },
    {
      "cell_type": "code",
      "source": [
        "chipo.item_name.unique()"
      ],
      "metadata": {
        "id": "oUyiLc4bPLpw",
        "colab": {
          "base_uri": "https://localhost:8080/"
        },
        "outputId": "b422abf8-53aa-4001-c679-051f26b5471c"
      },
      "execution_count": 12,
      "outputs": [
        {
          "output_type": "execute_result",
          "data": {
            "text/plain": [
              "array(['Chips and Fresh Tomato Salsa', 'Izze', 'Nantucket Nectar',\n",
              "       'Chips and Tomatillo-Green Chili Salsa', 'Chicken Bowl',\n",
              "       'Side of Chips', 'Steak Burrito', 'Steak Soft Tacos',\n",
              "       'Chips and Guacamole', 'Chicken Crispy Tacos',\n",
              "       'Chicken Soft Tacos', 'Chicken Burrito', 'Canned Soda',\n",
              "       'Barbacoa Burrito', 'Carnitas Burrito', 'Carnitas Bowl',\n",
              "       'Bottled Water', 'Chips and Tomatillo Green Chili Salsa',\n",
              "       'Barbacoa Bowl', 'Chips', 'Chicken Salad Bowl', 'Steak Bowl',\n",
              "       'Barbacoa Soft Tacos', 'Veggie Burrito', 'Veggie Bowl',\n",
              "       'Steak Crispy Tacos', 'Chips and Tomatillo Red Chili Salsa',\n",
              "       'Barbacoa Crispy Tacos', 'Veggie Salad Bowl',\n",
              "       'Chips and Roasted Chili-Corn Salsa',\n",
              "       'Chips and Roasted Chili Corn Salsa', 'Carnitas Soft Tacos',\n",
              "       'Chicken Salad', 'Canned Soft Drink', 'Steak Salad Bowl',\n",
              "       '6 Pack Soft Drink', 'Chips and Tomatillo-Red Chili Salsa', 'Bowl',\n",
              "       'Burrito', 'Crispy Tacos', 'Carnitas Crispy Tacos', 'Steak Salad',\n",
              "       'Chips and Mild Fresh Tomato Salsa', 'Veggie Soft Tacos',\n",
              "       'Carnitas Salad Bowl', 'Barbacoa Salad Bowl', 'Salad',\n",
              "       'Veggie Crispy Tacos', 'Veggie Salad', 'Carnitas Salad'],\n",
              "      dtype=object)"
            ]
          },
          "metadata": {},
          "execution_count": 12
        }
      ]
    },
    {
      "cell_type": "markdown",
      "metadata": {
        "id": "Zg3Zn70UZaKb"
      },
      "source": [
        "### How many different items are sold?"
      ]
    },
    {
      "cell_type": "code",
      "execution_count": 13,
      "metadata": {
        "id": "vrdpL059ZaKb",
        "colab": {
          "base_uri": "https://localhost:8080/"
        },
        "outputId": "84835c98-b8e0-4841-ae85-f4190c94b4a4"
      },
      "outputs": [
        {
          "output_type": "execute_result",
          "data": {
            "text/plain": [
              "50"
            ]
          },
          "metadata": {},
          "execution_count": 13
        }
      ],
      "source": [
        "chipo.item_name.nunique()"
      ]
    },
    {
      "cell_type": "markdown",
      "metadata": {
        "id": "F8LZ6RUiZaKY"
      },
      "source": [
        "### How much revenue was generated for the period in the dataset?\n"
      ]
    },
    {
      "cell_type": "code",
      "execution_count": 14,
      "metadata": {
        "id": "VkNY1zxRZaKY",
        "colab": {
          "base_uri": "https://localhost:8080/"
        },
        "outputId": "a6824f5e-a791-4da5-f83c-16e77dc5db98"
      },
      "outputs": [
        {
          "output_type": "execute_result",
          "data": {
            "text/plain": [
              "39237.02"
            ]
          },
          "metadata": {},
          "execution_count": 14
        }
      ],
      "source": [
        "\n",
        "chipo['price'] = chipo['item_price'].apply(lambda x: float(x[1:-1]))\n",
        "\n",
        "chipo['revenue'] = chipo['quantity'] * chipo['price']\n",
        "chipo.revenue.sum()\n"
      ]
    },
    {
      "cell_type": "markdown",
      "metadata": {
        "id": "NWXRgUCxZaKa"
      },
      "source": [
        "### What is the average revenue amount per order?"
      ]
    },
    {
      "cell_type": "code",
      "execution_count": 15,
      "metadata": {
        "id": "HF1EEx1gZaKa",
        "colab": {
          "base_uri": "https://localhost:8080/",
          "height": 490
        },
        "outputId": "791d1500-b23c-4539-bbbc-6a2567487568"
      },
      "outputs": [
        {
          "output_type": "execute_result",
          "data": {
            "text/plain": [
              "order_id\n",
              "1        2.890000\n",
              "2       33.960000\n",
              "3        6.335000\n",
              "4       10.500000\n",
              "5        6.850000\n",
              "          ...    \n",
              "1830    11.500000\n",
              "1831     4.300000\n",
              "1832     6.600000\n",
              "1833    11.750000\n",
              "1834     9.583333\n",
              "Name: revenue, Length: 1834, dtype: float64"
            ],
            "text/html": [
              "<div>\n",
              "<style scoped>\n",
              "    .dataframe tbody tr th:only-of-type {\n",
              "        vertical-align: middle;\n",
              "    }\n",
              "\n",
              "    .dataframe tbody tr th {\n",
              "        vertical-align: top;\n",
              "    }\n",
              "\n",
              "    .dataframe thead th {\n",
              "        text-align: right;\n",
              "    }\n",
              "</style>\n",
              "<table border=\"1\" class=\"dataframe\">\n",
              "  <thead>\n",
              "    <tr style=\"text-align: right;\">\n",
              "      <th></th>\n",
              "      <th>revenue</th>\n",
              "    </tr>\n",
              "    <tr>\n",
              "      <th>order_id</th>\n",
              "      <th></th>\n",
              "    </tr>\n",
              "  </thead>\n",
              "  <tbody>\n",
              "    <tr>\n",
              "      <th>1</th>\n",
              "      <td>2.890000</td>\n",
              "    </tr>\n",
              "    <tr>\n",
              "      <th>2</th>\n",
              "      <td>33.960000</td>\n",
              "    </tr>\n",
              "    <tr>\n",
              "      <th>3</th>\n",
              "      <td>6.335000</td>\n",
              "    </tr>\n",
              "    <tr>\n",
              "      <th>4</th>\n",
              "      <td>10.500000</td>\n",
              "    </tr>\n",
              "    <tr>\n",
              "      <th>5</th>\n",
              "      <td>6.850000</td>\n",
              "    </tr>\n",
              "    <tr>\n",
              "      <th>...</th>\n",
              "      <td>...</td>\n",
              "    </tr>\n",
              "    <tr>\n",
              "      <th>1830</th>\n",
              "      <td>11.500000</td>\n",
              "    </tr>\n",
              "    <tr>\n",
              "      <th>1831</th>\n",
              "      <td>4.300000</td>\n",
              "    </tr>\n",
              "    <tr>\n",
              "      <th>1832</th>\n",
              "      <td>6.600000</td>\n",
              "    </tr>\n",
              "    <tr>\n",
              "      <th>1833</th>\n",
              "      <td>11.750000</td>\n",
              "    </tr>\n",
              "    <tr>\n",
              "      <th>1834</th>\n",
              "      <td>9.583333</td>\n",
              "    </tr>\n",
              "  </tbody>\n",
              "</table>\n",
              "<p>1834 rows × 1 columns</p>\n",
              "</div><br><label><b>dtype:</b> float64</label>"
            ]
          },
          "metadata": {},
          "execution_count": 15
        }
      ],
      "source": [
        "\n",
        "chipo.groupby('order_id').revenue.mean()"
      ]
    },
    {
      "cell_type": "markdown",
      "metadata": {
        "id": "-8gqdPUBZaKZ"
      },
      "source": [
        "### How many orders were made in the period?"
      ]
    },
    {
      "cell_type": "code",
      "execution_count": 16,
      "metadata": {
        "id": "fw6hbh2PZaKZ",
        "colab": {
          "base_uri": "https://localhost:8080/"
        },
        "outputId": "e24dbaaf-8db3-4d2d-eab4-ff34b88f58ad"
      },
      "outputs": [
        {
          "output_type": "execute_result",
          "data": {
            "text/plain": [
              "1834"
            ]
          },
          "metadata": {},
          "execution_count": 16
        }
      ],
      "source": [
        "chipo.order_id.nunique()"
      ]
    },
    {
      "cell_type": "markdown",
      "metadata": {
        "id": "3DcqrpKdZaKZ"
      },
      "source": [
        "### How much revenue was generated selling the second most popular item in the menu?\n",
        "\n"
      ]
    },
    {
      "cell_type": "code",
      "execution_count": 17,
      "metadata": {
        "id": "MLvgGX46ZaKZ",
        "colab": {
          "base_uri": "https://localhost:8080/",
          "height": 147
        },
        "outputId": "dfc799ef-129a-420b-c743-5cfbfe024d1c"
      },
      "outputs": [
        {
          "output_type": "execute_result",
          "data": {
            "text/plain": [
              "item_name\n",
              "Chicken Burrito    6387.06\n",
              "Name: revenue, dtype: float64"
            ],
            "text/html": [
              "<div>\n",
              "<style scoped>\n",
              "    .dataframe tbody tr th:only-of-type {\n",
              "        vertical-align: middle;\n",
              "    }\n",
              "\n",
              "    .dataframe tbody tr th {\n",
              "        vertical-align: top;\n",
              "    }\n",
              "\n",
              "    .dataframe thead th {\n",
              "        text-align: right;\n",
              "    }\n",
              "</style>\n",
              "<table border=\"1\" class=\"dataframe\">\n",
              "  <thead>\n",
              "    <tr style=\"text-align: right;\">\n",
              "      <th></th>\n",
              "      <th>revenue</th>\n",
              "    </tr>\n",
              "    <tr>\n",
              "      <th>item_name</th>\n",
              "      <th></th>\n",
              "    </tr>\n",
              "  </thead>\n",
              "  <tbody>\n",
              "    <tr>\n",
              "      <th>Chicken Burrito</th>\n",
              "      <td>6387.06</td>\n",
              "    </tr>\n",
              "  </tbody>\n",
              "</table>\n",
              "</div><br><label><b>dtype:</b> float64</label>"
            ]
          },
          "metadata": {},
          "execution_count": 17
        }
      ],
      "source": [
        "c2 = chipo.groupby('item_name').sum().sort_values(['quantity'], ascending=False)\n",
        "c2.iloc[1:2,:]['revenue']"
      ]
    }
  ],
  "metadata": {
    "anaconda-cloud": {},
    "kernelspec": {
      "display_name": "Python [default]",
      "language": "python",
      "name": "python2"
    },
    "language_info": {
      "codemirror_mode": {
        "name": "ipython",
        "version": 2
      },
      "file_extension": ".py",
      "mimetype": "text/x-python",
      "name": "python",
      "nbconvert_exporter": "python",
      "pygments_lexer": "ipython2",
      "version": "2.7.12"
    },
    "colab": {
      "provenance": [],
      "include_colab_link": true
    }
  },
  "nbformat": 4,
  "nbformat_minor": 0
}